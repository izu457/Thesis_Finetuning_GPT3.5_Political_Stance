{
 "cells": [
  {
   "cell_type": "markdown",
   "metadata": {},
   "source": [
    "Building the Fine-tuned Classification Model"
   ]
  },
  {
   "cell_type": "code",
   "execution_count": 2,
   "metadata": {},
   "outputs": [],
   "source": [
    "# load libraries\n",
    "import pandas as pd\n",
    "import matplotlib.pyplot as plt"
   ]
  },
  {
   "cell_type": "code",
   "execution_count": 4,
   "metadata": {},
   "outputs": [
    {
     "name": "stdout",
     "output_type": "stream",
     "text": [
      "   Unnamed: 0  Vote ID                                       Summary text\n",
      "0         996      997  PURPOSE: to provide a temporary emergency solu...\n",
      "1        2323     2324  PURPOSE: to assist the railway sector deal wit...\n",
      "2        8169     8170  PURPOSE: to update EU rules on rail passenger ...\n",
      "3        8727     8728  PURPOSE: to extend the dates of application of...\n",
      "4        5200     5201  PURPOSE: to establish interim measures to ensu...\n",
      "   Unnamed: 0  Vote ID                                       Summary text\n",
      "0        2723     2724  PURPOSE: to assist the railway sector deal wit...\n",
      "1       10909    10910  PURPOSE: to amend Regulation (EU) 2019/216 of ...\n",
      "2        1039     1040  The European Parliament adopted by 568 votes t...\n",
      "3       12870    12871  PURPOSE: to propose a new instrument to addres...\n",
      "4        5222     5223  PURPOSE: to designate 2021 as the ‘European Ye...\n"
     ]
    }
   ],
   "source": [
    "# read in the training data\n",
    "training10 = pd.read_csv('data/training.csv')\n",
    "\n",
    "print(training10.head())\n",
    "\n",
    "training50 = pd.read_csv('data/training50.csv')\n",
    "\n",
    "print(training50.head())"
   ]
  },
  {
   "cell_type": "code",
   "execution_count": null,
   "metadata": {},
   "outputs": [],
   "source": [
    "# Calculate random guess accuracy\n",
    "\n",
    "# correct answers\n",
    "\n",
    "\n",
    "# random guess\n",
    "\n",
    "# accuracy\n"
   ]
  },
  {
   "cell_type": "code",
   "execution_count": null,
   "metadata": {},
   "outputs": [],
   "source": [
    "# Calculate accuracy of ChatGPT3.5 predictions"
   ]
  },
  {
   "cell_type": "code",
   "execution_count": null,
   "metadata": {},
   "outputs": [],
   "source": [
    "# Calculate accuracy of ChatGPT4 predictions"
   ]
  }
 ],
 "metadata": {
  "kernelspec": {
   "display_name": ".venv",
   "language": "python",
   "name": "python3"
  },
  "language_info": {
   "codemirror_mode": {
    "name": "ipython",
    "version": 3
   },
   "file_extension": ".py",
   "mimetype": "text/x-python",
   "name": "python",
   "nbconvert_exporter": "python",
   "pygments_lexer": "ipython3",
   "version": "3.12.4"
  }
 },
 "nbformat": 4,
 "nbformat_minor": 2
}
