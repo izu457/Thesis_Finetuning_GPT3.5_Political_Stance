{
 "cells": [
  {
   "cell_type": "markdown",
   "metadata": {},
   "source": [
    "Code from OpenAI Cookbook\n",
    "https://cookbook.openai.com/examples/chat_finetuning_data_prep"
   ]
  },
  {
   "cell_type": "code",
   "execution_count": 1,
   "metadata": {},
   "outputs": [],
   "source": [
    "import json\n",
    "import os\n",
    "import tiktoken # for token counting\n",
    "import numpy as np\n",
    "from collections import defaultdict\n",
    "import openai"
   ]
  },
  {
   "cell_type": "markdown",
   "metadata": {},
   "source": [
    "Validate Data Format"
   ]
  },
  {
   "cell_type": "code",
   "execution_count": 2,
   "metadata": {},
   "outputs": [
    {
     "name": "stdout",
     "output_type": "stream",
     "text": [
      "Num examples: 976\n",
      "First example:\n",
      "{'role': 'system', 'content': 'Imagine you are a member of the European\\n Parliament and based on your years of experience, you are an expert in \\n predicting how the different party groups will vote on a given law. Given\\n the above legislative proposal, predict the percentage of votes in favour \\n from each party group in the European Parliament. Assess the political \\n direction, wording, framing, and topic relevance of the law to inform your \\n predictions. Determine the type of majority (General, Left, Right, Consensus) \\n likely to support the legislation based on party alignments.'}\n",
      "{'role': 'user', 'content': '\"\"Amendment of the MFF 2014-2020\"\": PURPOSE: to amend Regulation (EU, Euratom) No 1311/2013 laying down the multiannual financial framework for the years 2014-2020. PROPOSED ACT: Council Regulation. ROLE OF THE EUROPEAN PARLIAMENT: Council may adopt the act only if Parliament has given its consent to the act. CONTENT: Article 19 of Council Regulation No 1311/2013 stipulates that in the event of the adoption after 1 January 2014 of new rules or programmes under shared management for the Structural Funds, the Cohesion Fund, the European Agricultural Fund for Rural Development, the European Maritime and Fisheries Fund, the Asylum and Migration Fund and the Internal Security Fund, the MFF shall be revised in order to transfer to subsequent years, in excess of the corresponding expenditure ceilings, allocations not used in 2014. The revision concerning the transfer of unused allocation for the year 2014 shall be adopted before 1 May 2015. It thus applies to programmes adopted after 1 January 2014 even when the relevant legal act was adopted by that time. Moreover, ‘rules’ covers not only the basic legislative acts laying down the provisions for implementing the funds concerned, but also implementing and delegated acts, to the extent to which they are a prerequisite for preparing or finalising the programmes. Consequently, this provision also applies to funds from the specific allocation for the Youth Employment Initiative as the legal basis is the same as for programmes. It also applies to the Fund for European Aid to the most Deprived (FEAD) as its commitments originate from the Structural Funds and are implemented under shared management. Article 19 also covers contributions from the ERDF to the cross-border and sea-basin programmes established under the European Neighbourhood Instrument and the Instrument for Pre-Accession Assistance as those amounts are part of national allocations defined in Article 91(2) of the ESI Funds’ Common Provisions Regulation (CPR). It should be noted that Article 19 does not impose any constraints as to the profile of the transfer of allocations to subsequent years. Amounts concerned: as a result of such late adoption: This proposal seeks to amend Annex to Regulation (EU, Euratom) No 1311/2013 by transferring the commitment appropriations not used in 2014 to subsequent years for sub-heading 1b, heading 2 and heading 3. N.B. the Commission proposes to transfer the bulk of the allocations not used in 2014 to year 2015 in order to keep the pace of investments for growth and jobs, minimise differences of treatment with programmes adopted in 2014 and ensure equal treatment with programmes whose 2014 commitment tranche is carried-over in accordance with Article 13 of the Financial Regulation. An annex sets outs details of the amounts transferred by the Funds concerned and by year of transfer. IMPLICATIONS ON PAYMENTS: concerning the implications on payments in 2015, they will be covered within the voted budget for 2015. The first initial pre-financing that has not been paid in 2014 will have to be paid in 2015 together with the second pre-financing. However, the corresponding unused appropriations in 2014 have been used by transfers to reduce the backlog of unpaid bills from the previous period 2007-2013 and the reverse operation could be done, if need be, in 2015 to cover the pre-financings. The medium and longer term implications on interim payments of the transfer are more difficult to predict. The legislative acts laying down the provisions for implementing the funds contain provisions for the automatic decommitment of appropriations not used within a given deadline, which is of n+3 years for the ESI Funds and of n+2 years for the AMIF and the ISF. This could in principle result in a shift of payments from one year to another without this lowering the overall needs over the 2014-2020 period. On the other hand, the real pace of implementation will not be pre-determined by the transfer. For these reasons, the Commission does not propose to revise the payment ceilings. It will review the situation regularly in the light of implementation and make proposals if appropriate in accordance with the relevant provisions of the MFF Regulation.'}\n",
      "{'role': 'assistant', 'content': 'ECR%:0.871, EPP%:0.864, EFD/IDG%:0.375, Greens/EFA%:0.92, NI%:0.212, REG%:0.806, S&D%:0.901, The Left%:0.731, General Majority:1, Left Majority:0, Right Majority:0, Consensus:0'}\n"
     ]
    }
   ],
   "source": [
    "# load jsonl file\n",
    "data_path = \"training_data.jsonl\"\n",
    "\n",
    "# Load the dataset\n",
    "with open(data_path, 'r', encoding='utf-8') as f:\n",
    "    dataset = [json.loads(line) for line in f]\n",
    "\n",
    "# Initial dataset stats\n",
    "print(\"Num examples:\", len(dataset))\n",
    "print(\"First example:\")\n",
    "for message in dataset[0][\"messages\"]:\n",
    "    print(message)"
   ]
  },
  {
   "cell_type": "code",
   "execution_count": 3,
   "metadata": {},
   "outputs": [
    {
     "name": "stdout",
     "output_type": "stream",
     "text": [
      "No errors found\n"
     ]
    }
   ],
   "source": [
    "# Format error checks\n",
    "format_errors = defaultdict(int)\n",
    "\n",
    "for ex in dataset:\n",
    "    if not isinstance(ex, dict):\n",
    "        format_errors[\"data_type\"] += 1\n",
    "        continue\n",
    "        \n",
    "    messages = ex.get(\"messages\", None)\n",
    "    if not messages:\n",
    "        format_errors[\"missing_messages_list\"] += 1\n",
    "        continue\n",
    "        \n",
    "    for message in messages:\n",
    "        if \"role\" not in message or \"content\" not in message:\n",
    "            format_errors[\"message_missing_key\"] += 1\n",
    "        \n",
    "        if any(k not in (\"role\", \"content\", \"name\", \"function_call\", \"weight\") for k in message):\n",
    "            format_errors[\"message_unrecognized_key\"] += 1\n",
    "        \n",
    "        if message.get(\"role\", None) not in (\"system\", \"user\", \"assistant\", \"function\"):\n",
    "            format_errors[\"unrecognized_role\"] += 1\n",
    "            \n",
    "        content = message.get(\"content\", None)\n",
    "        function_call = message.get(\"function_call\", None)\n",
    "        \n",
    "        if (not content and not function_call) or not isinstance(content, str):\n",
    "            format_errors[\"missing_content\"] += 1\n",
    "    \n",
    "    if not any(message.get(\"role\", None) == \"assistant\" for message in messages):\n",
    "        format_errors[\"example_missing_assistant_message\"] += 1\n",
    "\n",
    "if format_errors:\n",
    "    print(\"Found errors:\")\n",
    "    for k, v in format_errors.items():\n",
    "        print(f\"{k}: {v}\")\n",
    "else:\n",
    "    print(\"No errors found\")"
   ]
  },
  {
   "cell_type": "code",
   "execution_count": 4,
   "metadata": {},
   "outputs": [],
   "source": [
    "# HELPER FUNCTIONS\n",
    "\n",
    "# cl100k_base is the tokenizer used by ChatGPT3.5 and ChatGPT4\n",
    "encoding = tiktoken.get_encoding(\"cl100k_base\")\n",
    "\n",
    "# not exact!\n",
    "# simplified from https://github.com/openai/openai-cookbook/blob/main/examples/How_to_count_tokens_with_tiktoken.ipynb\n",
    "def num_tokens_from_messages(messages, tokens_per_message=3, tokens_per_name=1):\n",
    "    num_tokens = 0\n",
    "    for message in messages:\n",
    "        num_tokens += tokens_per_message\n",
    "        for key, value in message.items():\n",
    "            # .encode returns the list of tokens (so that you can count them with len())\n",
    "            num_tokens += len(encoding.encode(value))\n",
    "            if key == \"name\":\n",
    "                num_tokens += tokens_per_name\n",
    "    num_tokens += 3\n",
    "    return num_tokens\n",
    "\n",
    "def num_assistant_tokens_from_messages(messages):\n",
    "    num_tokens = 0\n",
    "    for message in messages:\n",
    "        if message[\"role\"] == \"assistant\":\n",
    "            num_tokens += len(encoding.encode(message[\"content\"]))\n",
    "    return num_tokens\n",
    "\n",
    "def print_distribution(values, name):\n",
    "    print(f\"\\n#### Distribution of {name}:\")\n",
    "    print(f\"min / max: {min(values)}, {max(values)}\")\n",
    "    print(f\"mean / median: {np.mean(values)}, {np.median(values)}\")\n",
    "    print(f\"p5 / p95: {np.quantile(values, 0.1)}, {np.quantile(values, 0.9)}\")"
   ]
  },
  {
   "cell_type": "code",
   "execution_count": 5,
   "metadata": {},
   "outputs": [
    {
     "name": "stdout",
     "output_type": "stream",
     "text": [
      "Num examples missing system message: 0\n",
      "Num examples missing user message: 0\n",
      "\n",
      "#### Distribution of num_messages_per_example:\n",
      "min / max: 3, 3\n",
      "mean / median: 3.0, 3.0\n",
      "p5 / p95: 3.0, 3.0\n",
      "\n",
      "#### Distribution of num_assistant_tokens_per_example:\n",
      "min / max: 85, 85\n",
      "mean / median: 85.0, 85.0\n",
      "p5 / p95: 85.0, 85.0\n",
      "\n",
      "0 examples may be over the 4096 token limit, they will be truncated during fine-tuning\n"
     ]
    }
   ],
   "source": [
    "# check for missing data, distribution of messages in each conversation,\n",
    "# distribution of tokens per conversation, print token limit warnings\n",
    "\n",
    "# Warnings and tokens counts\n",
    "n_missing_system = 0\n",
    "n_missing_user = 0\n",
    "n_messages = []\n",
    "convo_lens = []\n",
    "assistant_message_lens = []\n",
    "\n",
    "for ex in dataset:\n",
    "    messages = ex[\"messages\"]\n",
    "    if not any(message[\"role\"] == \"system\" for message in messages):\n",
    "        n_missing_system += 1\n",
    "    if not any(message[\"role\"] == \"user\" for message in messages):\n",
    "        n_missing_user += 1\n",
    "    n_messages.append(len(messages))\n",
    "    convo_lens.append(num_tokens_from_messages(messages))\n",
    "    assistant_message_lens.append(num_assistant_tokens_from_messages(messages))\n",
    "    \n",
    "print(\"Num examples missing system message:\", n_missing_system)\n",
    "print(\"Num examples missing user message:\", n_missing_user)\n",
    "print_distribution(n_messages, \"num_messages_per_example\")\n",
    "#print_distribution(convo_lens, \"num_total_tokens_per_example\")\n",
    "print_distribution(assistant_message_lens, \"num_assistant_tokens_per_example\")\n",
    "n_too_long = sum(l > 4096 for l in convo_lens)\n",
    "print(f\"\\n{n_too_long} examples may be over the 4096 token limit, they will be truncated during fine-tuning\")"
   ]
  },
  {
   "cell_type": "markdown",
   "metadata": {},
   "source": [
    "Estimate costs"
   ]
  },
  {
   "cell_type": "code",
   "execution_count": 6,
   "metadata": {},
   "outputs": [
    {
     "name": "stdout",
     "output_type": "stream",
     "text": [
      "Dataset has ~969292 tokens that will be charged for during training\n",
      "By default, you'll train for 3 epochs on this dataset\n",
      "By default, you'll be charged for ~2907876 tokens\n"
     ]
    }
   ],
   "source": [
    "# Pricing and default n_epochs estimate\n",
    "MAX_TOKENS_PER_EXAMPLE = 4096\n",
    "\n",
    "TARGET_EPOCHS = 3\n",
    "MIN_TARGET_EXAMPLES = 100\n",
    "MAX_TARGET_EXAMPLES = 25000\n",
    "MIN_DEFAULT_EPOCHS = 1\n",
    "MAX_DEFAULT_EPOCHS = 25\n",
    "\n",
    "n_epochs = TARGET_EPOCHS\n",
    "n_train_examples = len(dataset)\n",
    "if n_train_examples * TARGET_EPOCHS < MIN_TARGET_EXAMPLES:\n",
    "    n_epochs = min(MAX_DEFAULT_EPOCHS, MIN_TARGET_EXAMPLES // n_train_examples)\n",
    "elif n_train_examples * TARGET_EPOCHS > MAX_TARGET_EXAMPLES:\n",
    "    n_epochs = max(MIN_DEFAULT_EPOCHS, MAX_TARGET_EXAMPLES // n_train_examples)\n",
    "\n",
    "n_billing_tokens_in_dataset = sum(min(MAX_TOKENS_PER_EXAMPLE, length) for length in convo_lens)\n",
    "print(f\"Dataset has ~{n_billing_tokens_in_dataset} tokens that will be charged for during training\")\n",
    "print(f\"By default, you'll train for {n_epochs} epochs on this dataset\")\n",
    "print(f\"By default, you'll be charged for ~{n_epochs * n_billing_tokens_in_dataset} tokens\")"
   ]
  },
  {
   "cell_type": "markdown",
   "metadata": {},
   "source": [
    "Upload validated files to OpenAI API"
   ]
  },
  {
   "cell_type": "code",
   "execution_count": 7,
   "metadata": {},
   "outputs": [
    {
     "name": "stdout",
     "output_type": "stream",
     "text": [
      "sk-proj-GL73kbRwhRpgN3EmXz1YT3BlbkFJEMJhTsinxQDel42BZdNz\n",
      "Uploaded training file id file-vMVUI34iptTgrnBbM2arCQyZ\n",
      "Uploaded validation file id file-QlbbKdDA7RNicmPPZfzXZKTZ\n"
     ]
    }
   ],
   "source": [
    "# upload validated data file to OpenAI API\n",
    "# set OPENAI_API_KEY in environment variables\n",
    "os.environ['TestKey3'] = 'sk-proj-GL73kbRwhRpgN3EmXz1YT3BlbkFJEMJhTsinxQDel42BZdNz' \n",
    "\n",
    "print(os.environ.get('TestKey3'))  \n",
    "\n",
    "client = openai.OpenAI(api_key=os.environ['TestKey3'])\n",
    "\n",
    "train_upload = client.files.create(\n",
    "  file=open(\"small_training_data.jsonl\", \"rb\"),\n",
    "  purpose=\"fine-tune\"\n",
    ")\n",
    "print(\"Uploaded training file id\", train_upload.id)\n",
    "\n",
    "val_upload = client.files.create(\n",
    "  file=open(\"small_validation_data.jsonl\", \"rb\"),\n",
    "  purpose=\"fine-tune\"\n",
    ")\n",
    "print(\"Uploaded validation file id\", val_upload.id)"
   ]
  },
  {
   "cell_type": "markdown",
   "metadata": {},
   "source": [
    "Create Fine-Tuning Job via OpenAI Software Development Kit\n",
    "\n",
    "- use suffix parameter to name resulting model\n",
    "- set additional parameters auch as batch size, learning rate, epochs, etc. to be found here: https://platform.openai.com/docs/api-reference/fine-tuning/create"
   ]
  },
  {
   "cell_type": "code",
   "execution_count": 8,
   "metadata": {},
   "outputs": [
    {
     "name": "stdout",
     "output_type": "stream",
     "text": [
      "Fine-tunning model with jobID: ftjob-ta18V6ve5x2fTmgpfFqhZxMp.\n",
      "Training Response: FineTuningJob(id='ftjob-ta18V6ve5x2fTmgpfFqhZxMp', created_at=1721212187, error=Error(code=None, message=None, param=None), fine_tuned_model=None, finished_at=None, hyperparameters=Hyperparameters(n_epochs=3, batch_size=1, learning_rate_multiplier=0.01), model='gpt-3.5-turbo-0125', object='fine_tuning.job', organization_id='org-URxBkHYInUDxHdJfjeVT2W58', result_files=[], seed=124, status='validating_files', trained_tokens=None, training_file='file-vMVUI34iptTgrnBbM2arCQyZ', validation_file='file-QlbbKdDA7RNicmPPZfzXZKTZ', estimated_finish=None, integrations=[], user_provided_suffix='small')\n",
      "Training Status: validating_files\n"
     ]
    },
    {
     "data": {
      "text/plain": [
       "SyncCursorPage[FineTuningJobEvent](data=[FineTuningJobEvent(id='ftevent-fvlwF26iX0HxCoZY90fJARXC', created_at=1721212187, level='info', message='Validating training file: file-vMVUI34iptTgrnBbM2arCQyZ and validation file: file-QlbbKdDA7RNicmPPZfzXZKTZ', object='fine_tuning.job.event', data={}, type='message'), FineTuningJobEvent(id='ftevent-XCQPiLUg8doOc1XaT5nZqKzX', created_at=1721212187, level='info', message='Created fine-tuning job: ftjob-ta18V6ve5x2fTmgpfFqhZxMp', object='fine_tuning.job.event', data={}, type='message')], object='list', has_more=False)"
      ]
     },
     "execution_count": 8,
     "metadata": {},
     "output_type": "execute_result"
    }
   ],
   "source": [
    "learning_rate_multiplier = [0.1, 0.01, 0.001, 0.0001, 0.00001]\n",
    "\n",
    "response = client.fine_tuning.jobs.create(\n",
    "  training_file=train_upload.id, # file id returned after upload to API \n",
    "  validation_file=val_upload.id, # file id returned after upload to API\n",
    "  model=\"gpt-3.5-turbo\",\n",
    "  suffix=\"small\",\n",
    "  seed=124,\n",
    "  hyperparameters={\n",
    "  \"n_epochs\": 3,\n",
    "\t\"batch_size\": 1,\n",
    "\t\"learning_rate_multiplier\": 0.01\n",
    "  }\n",
    ")\n",
    "job_id = response.id\n",
    "\n",
    "print(f'Fine-tunning model with jobID: {job_id}.')\n",
    "print(f\"Training Response: {response}\")\n",
    "print(f\"Training Status: {response.status}\")\n",
    "\n",
    "# Retrieve the state of a fine-tune\n",
    "client.fine_tuning.jobs.retrieve(job_id)\n",
    "\n",
    "# monitor training progress, get ft events\n",
    "client.fine_tuning.jobs.list_events(\n",
    "  fine_tuning_job_id=job_id,\n",
    "  limit=10\n",
    ")\n"
   ]
  },
  {
   "cell_type": "markdown",
   "metadata": {},
   "source": [
    "Cancel or track a fine-tune job or delete a model"
   ]
  },
  {
   "cell_type": "code",
   "execution_count": null,
   "metadata": {},
   "outputs": [],
   "source": [
    "# List 10 fine-tuning jobs\n",
    "client.fine_tuning.jobs.list(limit=10)\n",
    "\n",
    "# Retrieve the state of a fine-tune\n",
    "client.fine_tuning.jobs.retrieve(\"ftjob-abc123\")\n",
    "\n",
    "# Cancel a job\n",
    "client.fine_tuning.jobs.cancel(\"ftjob-abc123\")\n",
    "\n",
    "# List up to 10 events from a fine-tuning job\n",
    "client.fine_tuning.jobs.list_events(fine_tuning_job_id=\"ftjob-abc123\", limit=10)\n",
    "\n",
    "# Delete a fine-tuned model (must be an owner of the org the model was created in)\n",
    "client.models.delete(\"ft:gpt-3.5-turbo:acemeco:suffix:abc123\")"
   ]
  },
  {
   "cell_type": "markdown",
   "metadata": {},
   "source": [
    "Using fine-tuned model via Playground or via code"
   ]
  },
  {
   "cell_type": "code",
   "execution_count": null,
   "metadata": {},
   "outputs": [],
   "source": [
    "# make a request to the new model\n",
    "completion = client.chat.completions.create(\n",
    "  model=\"ft:gpt-3.5-turbo:my-org:custom_suffix:id\",\n",
    "  messages=[\n",
    "    {\"role\": \"system\", \"content\": \"You are a helpful assistant.\"},\n",
    "    {\"role\": \"user\", \"content\": \"Hello!\"}\n",
    "  ]\n",
    ")\n",
    "print(completion.choices[0].message)"
   ]
  },
  {
   "cell_type": "markdown",
   "metadata": {},
   "source": [
    "Metrics of the model\n",
    "\n",
    "- while an active fine-tuning job is running via an event object\n",
    "- or when job is finished via querying the job and retrieving result files as csv\n",
    "- or by defining own eval method, see resources from OpenAI here: https://github.com/openai/evals\n",
    "- OR use own classification model"
   ]
  },
  {
   "cell_type": "code",
   "execution_count": null,
   "metadata": {},
   "outputs": [],
   "source": [
    "# Retrieving event object (ongoing job)\n",
    "{\n",
    "    \"object\": \"fine_tuning.job.event\",\n",
    "    \"id\": \"ftevent-abc-123\",\n",
    "    \"created_at\": 1693582679,\n",
    "    \"level\": \"info\",\n",
    "    \"message\": \"Step 300/300: training loss=0.15, validation loss=0.27, full validation loss=0.40\",\n",
    "    \"data\": {\n",
    "        \"step\": 300,\n",
    "        \"train_loss\": 0.14991648495197296,\n",
    "        \"valid_loss\": 0.26569826706596045,\n",
    "        \"total_steps\": 300,\n",
    "        \"full_valid_loss\": 0.4032616495084362,\n",
    "        \"train_mean_token_accuracy\": 0.9444444179534912,\n",
    "        \"valid_mean_token_accuracy\": 0.9565217391304348,\n",
    "        \"full_valid_mean_token_accuracy\": 0.9089635854341737\n",
    "    },\n",
    "    \"type\": \"metrics\"\n",
    "}"
   ]
  }
 ],
 "metadata": {
  "kernelspec": {
   "display_name": "base",
   "language": "python",
   "name": "python3"
  },
  "language_info": {
   "codemirror_mode": {
    "name": "ipython",
    "version": 3
   },
   "file_extension": ".py",
   "mimetype": "text/x-python",
   "name": "python",
   "nbconvert_exporter": "python",
   "pygments_lexer": "ipython3",
   "version": "3.12.4"
  }
 },
 "nbformat": 4,
 "nbformat_minor": 2
}
