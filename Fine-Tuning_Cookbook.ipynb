{
 "cells": [
  {
   "cell_type": "markdown",
   "metadata": {},
   "source": [
    "Code from OpenAI Cookbook\n",
    "https://cookbook.openai.com/examples/chat_finetuning_data_prep"
   ]
  },
  {
   "cell_type": "code",
   "execution_count": 18,
   "metadata": {},
   "outputs": [],
   "source": [
    "import json\n",
    "import os\n",
    "import tiktoken # for token counting\n",
    "import numpy as np\n",
    "from collections import defaultdict\n",
    "import openai\n",
    "import pandas as pd\n",
    "import matplotlib.pyplot as plt\n",
    "import requests\n",
    "import base64\n",
    "import logging\n",
    "import itertools\n",
    "import time\n",
    "import random\n",
    "from tenacity import retry, stop_after_attempt, wait_random_exponential\n",
    "import seaborn as sns\n",
    "import matplotlib.pyplot as plt\n",
    "\n",
    "import cookbook_function as cbf"
   ]
  },
  {
   "cell_type": "code",
   "execution_count": 19,
   "metadata": {},
   "outputs": [],
   "source": [
    "# Authenticate with OpenAI API\n",
    "TestKey3 = \"sk-proj-GL73kbRwhRpgN3EmXz1YT3BlbkFJEMJhTsinxQDel42BZdNz\"\n",
    "headers = {\n",
    "    \"Authorization\": f\"Bearer {TestKey3}\"\n",
    "}\n",
    "client = openai.OpenAI(api_key=TestKey3)"
   ]
  },
  {
   "cell_type": "markdown",
   "metadata": {},
   "source": [
    "Validate Data Format"
   ]
  },
  {
   "cell_type": "code",
   "execution_count": 3,
   "metadata": {},
   "outputs": [
    {
     "name": "stdout",
     "output_type": "stream",
     "text": [
      "<class 'list'>\n",
      "data/finetuning_data/training_data.jsonl :\n",
      "Num examples: 1114\n",
      "First example:\n",
      "{'role': 'system', 'content': 'Imagine you are a member of the European\\n         Parliament and based on your years of experience, you are an expert in \\n         predicting how the different party groups will vote on a given law. Given\\n         a legislative proposal, predict the percentage of votes in favour \\n         from each party group. Assess the political \\n         direction, wording, framing, and topic relevance of the law to inform your \\n         predictions. Determine the type of majority (General, Left, Right, Consensus) \\n         likely to support the legislation based on party alignments. Reply with numerical\\n         values only.'}\n",
      "{'role': 'user', 'content': \"Conclusion of the EU-China Civil Aviation Safety Agreement: PURPOSE: to conclude an agreement on civil aviation safety between the European Union and the Government of the People's Republic of China. PROPOSED ACT: Council Decision. ROLE OF THE EUROPEAN PARLIAMENT: Council may adopt the act only if Parliament has given its consent to the act. BACKGROUND: the Agreement on civil aviation safety between the European Union and the Government of the People's Republic of China negotiated by the Commission was signed on 20 March 2019, subject to its conclusion at a later date. The Agreement now needs to be approved. CONTENT: the draft Council Decision is aimed at approving, on behalf of the Union, the Agreement on civil aviation safety between the European Union and China. The Agreement is based on mutual confidence as regards systems and on the comparison of regulatory differences. The objectives of this Agreement are to: - enable the reciprocal acceptance, as provided for in the Annexes to this Agreement, of findings of compliance and certificates issued by either Party's Competent Authorities; - facilitate the multinational dimension of the civil aviation industry; - facilitate and promote the free circulation of civil aeronautical products and services; - promote cooperation in order to achieve a high level of civil aviation safety and environmental compatibility. The scope of cooperation under this Agreement includes the following areas: - the airworthiness Certificates and Monitoring of Civil Aeronautical Products; - environmental testing and Certificates of Civil Aeronautical Products; - the certification and Monitoring of design and production organisations; - the certification and Monitoring of maintenance organisations; - personnel licensing and training; - operation of aircraft; - air traffic services and air traffic management. The Commission shall be authorised to approve, on behalf of the Union, amendments to the Annexes to the Agreement adopted by the Joint Committee in so far as such amendments are consistent with, and do not entail any modification of, relevant Union legal acts. It shall in particular ensure that the approval on behalf of the Union: (i) is in the interests of the Union; (ii) serves the objectives pursued by the Union within the framework of its aviation safety and trade policy; (iii) takes into account the interests of the manufacturers, traders and consumers of the Union. In order to ensure that the approval by the Commission of proposed amendments to the Annexes to the Agreement to be adopted by the Joint Committee is in conformity with the conditions laid down in this Decision, the Commission shall submit the proposed amendments to the Council for consultation sufficiently in advance of the Joint Committee meeting at which those amendments would be adopted. The conformity of the amendments submitted by the Commission to the Council should be assessed by the Committee of Permanent Representatives of the Governments of the Member States (Coreper).\"}\n",
      "{'role': 'assistant', 'content': 'Vote ID: 1452EP9, ECR%:0.968, EPP%:0.945, EFD/IDG%:0.548, Greens/EFA%:0.892, NI%:0.491, REG%:0.944, S&D%:0.909, The Left%:0.902, General Majority:1, Left Majority:0, Right Majority:0, Consensus:0'}\n",
      "<class 'list'>\n",
      "data/finetuning_data/testing_data.jsonl :\n",
      "Num examples: 140\n",
      "First example:\n",
      "{'role': 'system', 'content': 'Imagine you are a member of the European\\n         Parliament and based on your years of experience, you are an expert in \\n         predicting how the different party groups will vote on a given law. Given\\n         a legislative proposal, predict the percentage of votes in favour \\n         from each party group. Assess the political \\n         direction, wording, framing, and topic relevance of the law to inform your \\n         predictions. Determine the type of majority (General, Left, Right, Consensus) \\n         likely to support the legislation based on party alignments. Reply with numerical\\n         values only.'}\n",
      "{'role': 'user', 'content': \"Rail passengers' rights and obligations: PURPOSE: to update EU rules on rail passenger rights in order to better protect users in the event of delays, cancellations or discrimination. PROPOSED ACT: Regulation of the European Parliament and of the Council. ROLE OF THE EUROPEAN PARLIAMENT: the European Parliament decides in accordance with the ordinary legislative procedure and on an equal footing with the Council. BACKGROUND: by virtue of Regulation (EC) No 1371/2007, which entered into force in December 2009, rail passengers have rights to information, reservations and tickets, assistance, care and compensation in the event of a delay or cancellation, free of charge assistance (for persons with disabilities), compensation in the event of an accident or quick access to a complaint handling system. In its 2013 report on the application of the Regulation, the Commission highlighted certain problematic areas which were confirmed by an impact assessment in 2016/2017. With this proposal to recast the existing legislation, the Commission wishes to better protect passengers no matter where they travel in the EU. It aligns rail with general aspects of passenger rights legislation on other transport modes, notably non-discrimination, contingency planning, disability training, complaint handling and enforcement. IMPACT ASSESSMENT: policy options were broken down, in a sequential approach analysing and comparing costs and benefits and selecting a preferred policy scenario per theme: (i) exemptions; (ii) the applicability of the rights of persons with reduced mobility to all services; (iii) information for persons with reduced mobility; (iv) assistance to persons with reduced mobility; (v) handling of complaints and monitoring of enforcement by national enforcement agencies; (vi) definition of throughticket; (viii) force majeure; (ix) information for all travellers; (x) non-discrimination. CONTENT: the main elements of proposal recasting Regulation (EC) No 1371/2007 are as follows: Uniform application of rules : to date, many Member States have frequently used national exemptions, which deprive travellers to a large extent of their rights. The proposal: removes exemptions for long-distance domestic services by 2020; removes exemptions for cross-border urban, suburban and regional services; requires that Member States grant exemptions only if they can prove that passengers are adequately protected on their territory. The Commission proposal updates the existing rules on rail passenger rights in five key areas: Information and non-discrimination : in order to improve provision of information about passenger rights at booking, the proposal: requires such information to be printed on the ticket or electronically. Notices informing passengers of their rights have to be placed in prominent positions in stations and on board; provides for passengers to be given fuller information on through tickets. Railway undertakings and ticket vendors have to make efforts to offer through tickets. They must prove that they informed passengers where their passenger rights do not apply to the whole journey but only to its segments; introduces a general clause prohibiting any form of discrimination, e.g. based on nationality, residence, location or currency of payment. Better rights for persons with disabilities or reduced mobility : mandatory right to assistance on all services and full compensation for loss or repair of mobility equipment. Relevant information has to be given in accessible formats and rail staff must receive disability awareness training. Enforcement, complaint-handling and sanctions : the proposal clarifies the procedure and deadlines for passengers to lodge complaints. It specifies the responsibilities of national enforcement bodies in cross-border cases and requires them to cooperate effectively. Force majeure : in 2013, the Court of Justice of the European Union ruled that the current Regulation does not allow for railway undertakings to be exempted from compensating passengers for delays caused by force majeure, thus creating a distinction between rail and other modes of transport. The proposal introduces a 'force majeure' clause which would exempt railway undertakings from paying compensation for delays only in very exceptional situations caused by severe weather conditions and natural disasters. DELEGATED ACTS: the proposal contains provisions empowering the Commission to adopt delegated acts in accordance with Article 290 of the Treaty on the Functioning of the European Union.\"}\n",
      "{'role': 'assistant', 'content': 'Vote ID: 8178EP8, ECR%:0.571, EPP%:0.715, EFD/IDG%:0.604, Greens/EFA%:0.98, NI%:0.192, REG%:0.821, S&D%:0.848, The Left%:0.577, General Majority:0, Left Majority:0, Right Majority:0, Consensus:0'}\n",
      "<class 'list'>\n",
      "data/finetuning_data/validation_data.jsonl :\n",
      "Num examples: 139\n",
      "First example:\n",
      "{'role': 'system', 'content': 'Imagine you are a member of the European\\n         Parliament and based on your years of experience, you are an expert in \\n         predicting how the different party groups will vote on a given law. Given\\n         a legislative proposal, predict the percentage of votes in favour \\n         from each party group. Assess the political \\n         direction, wording, framing, and topic relevance of the law to inform your \\n         predictions. Determine the type of majority (General, Left, Right, Consensus) \\n         likely to support the legislation based on party alignments. Reply with numerical\\n         values only.'}\n",
      "{'role': 'user', 'content': 'Financing instrument for the promotion of democracy and human rights worldwide: PURPOSE: to amend Regulation (EC) No 1889/2006 establishing a European Instrument for Democracy and Human Rights (EIDHR) in order to provide, on a case by case basis, eligibility of taxes for Community financing. PROPOSED ACT: Regulation of the European Parliament and of the Council. CONTENT: the various Community financial instruments for external cooperation contain inconsistencies regarding the eligibility for Community financing of costs related to taxes, duties and other charges. The Development Cooperation Instrument (DCI) and the European Instrument for Democracy and Human Rights (EIDHR) are the only ones not to provide for an exception to the principle of the non-eligibility of such costs for funding. The other instruments lay down that Community support may not be used to finance these costs in principle. They therefore allow for flexibility on a case-by-case basis and the authorising officer responsible may, where appropriate, decide to accept their being financed in the interests of proper implementation of programmes and projects. Such flexibility is essential for certain recurring situations where deadlock occurs because exemption mechanisms are absent or impractical (owing, for example, to the extreme complexity of procedures in the beneficiary country). In these situations, the rigid formulation of the DCI and EIDHR instruments may make the action financed by external aid extremely difficult. Note also that with the current wording the prohibition on financing for the payment of taxes concerns only those paid \"in beneficiary countries\", which adds difficulty of interpretation to the problem of eligibility (especially in the case of regional projects). Another example is the levying of local taxes (equivalent to VAT) which cannot be recovered because of a lack of machinery for relief and then have to be borne by the contractor because of the strict prohibition on covering taxes. In view of the above and of the evolving nature of tax rules in the beneficiary countries, it is essential to preserve sufficient flexibility to enable authorising officers to determine, on a case-by-case basis, whether there is need to accept the eligibility of taxes for Community financing under the EIDHR and DCI, as they may do for other instruments of EC external assistance, where such taxes are lawful. Therefore it is proposed to align the relevant provisions of both these instruments as a consequence. It should be noted that for reasons of a legal nature, it is provided that the European Parliament should give a separate opinion on this proposal amending the EIDHR and on the parallel proposal amending the DCI.'}\n",
      "{'role': 'assistant', 'content': 'Vote ID: 2378EP7, ECR%:0.789, EPP%:0.842, EFD/IDG%:0.548, Greens/EFA%:0.895, NI%:0.182, REG%:0.867, S&D%:0.8, The Left%:0.057, General Majority:1, Left Majority:0, Right Majority:0, Consensus:0'}\n"
     ]
    }
   ],
   "source": [
    "# load jsonl file\n",
    "data_paths = [\"data/finetuning_data/training_data.jsonl\", \n",
    "              \"data/finetuning_data/testing_data.jsonl\", \n",
    "              \"data/finetuning_data/validation_data.jsonl\"\n",
    "              ]\n",
    "\n",
    "# Load the dataset\n",
    "datasets=[]\n",
    "for data_path in data_paths:\n",
    "    cbf.validate_jsonl(data_path)\n",
    "    with open(data_path, 'r', encoding='utf-8') as f:\n",
    "        dataset = [json.loads(line) for line in f]\n",
    "        print(type(dataset))\n",
    "    datasets.append(dataset)\n",
    "    # Initial dataset stats\n",
    "    print(\"{} :\".format(data_path))\n",
    "    print(\"Num examples:\", len(dataset))\n",
    "    print(\"First example:\")\n",
    "    for message in dataset[0][\"messages\"]:\n",
    "        print(message)\n",
    "    "
   ]
  },
  {
   "cell_type": "code",
   "execution_count": 4,
   "metadata": {},
   "outputs": [
    {
     "name": "stdout",
     "output_type": "stream",
     "text": [
      "No errors found\n",
      "No errors found\n",
      "No errors found\n"
     ]
    }
   ],
   "source": [
    "# check for format errors\n",
    "for dataset in datasets:\n",
    "    cbf.check_format(dataset)"
   ]
  },
  {
   "cell_type": "code",
   "execution_count": 5,
   "metadata": {},
   "outputs": [
    {
     "name": "stdout",
     "output_type": "stream",
     "text": [
      "Num examples missing system message: 0\n",
      "Num examples missing user message: 0\n",
      "\n",
      "#### Distribution of num_messages_per_example:\n",
      "min / max: 3, 3\n",
      "mean / median: 3.0, 3.0\n",
      "p5 / p95: 3.0, 3.0\n",
      "\n",
      "#### Distribution of num_assistant_tokens_per_example:\n",
      "min / max: 93, 94\n",
      "mean / median: 93.89587073608618, 94.0\n",
      "p5 / p95: 93.0, 94.0\n",
      "\n",
      "0 examples may be over the 4096 token limit, they will be truncated during fine-tuning\n",
      "Num examples missing system message: 0\n",
      "Num examples missing user message: 0\n",
      "\n",
      "#### Distribution of num_messages_per_example:\n",
      "min / max: 3, 3\n",
      "mean / median: 3.0, 3.0\n",
      "p5 / p95: 3.0, 3.0\n",
      "\n",
      "#### Distribution of num_assistant_tokens_per_example:\n",
      "min / max: 93, 94\n",
      "mean / median: 93.89393939393939, 94.0\n",
      "p5 / p95: 93.0, 94.0\n",
      "\n",
      "0 examples may be over the 4096 token limit, they will be truncated during fine-tuning\n",
      "Num examples missing system message: 0\n",
      "Num examples missing user message: 0\n",
      "\n",
      "#### Distribution of num_messages_per_example:\n",
      "min / max: 3, 3\n",
      "mean / median: 3.0, 3.0\n",
      "p5 / p95: 3.0, 3.0\n",
      "\n",
      "#### Distribution of num_assistant_tokens_per_example:\n",
      "min / max: 93, 94\n",
      "mean / median: 93.89231873653985, 94.0\n",
      "p5 / p95: 93.0, 94.0\n",
      "\n",
      "0 examples may be over the 4096 token limit, they will be truncated during fine-tuning\n"
     ]
    }
   ],
   "source": [
    "# check for missing data, distribution of messages in each conversation,\n",
    "# distribution of tokens per conversation, print token limit warnings\n",
    "\n",
    "# Warnings and tokens counts\n",
    "n_missing_system = 0\n",
    "n_missing_user = 0\n",
    "n_messages = []\n",
    "convo_lens = []\n",
    "assistant_message_lens = []\n",
    "\n",
    "for dataset in datasets:\n",
    "    for ex in dataset:\n",
    "        messages = ex[\"messages\"]\n",
    "        if not any(message[\"role\"] == \"system\" for message in messages):\n",
    "            n_missing_system += 1\n",
    "        if not any(message[\"role\"] == \"user\" for message in messages):\n",
    "            n_missing_user += 1\n",
    "        n_messages.append(len(messages))\n",
    "        convo_lens.append(cbf.num_tokens_from_messages(messages))\n",
    "        assistant_message_lens.append(cbf.num_assistant_tokens_from_messages(messages))\n",
    "        \n",
    "    print(\"Num examples missing system message:\", n_missing_system)\n",
    "    print(\"Num examples missing user message:\", n_missing_user)\n",
    "    cbf.print_distribution(n_messages, \"num_messages_per_example\")\n",
    "    #print_distribution(convo_lens, \"num_total_tokens_per_example\")\n",
    "    cbf.print_distribution(assistant_message_lens, \"num_assistant_tokens_per_example\")\n",
    "    n_too_long = sum(l > 4096 for l in convo_lens)\n",
    "    print(f\"\\n{n_too_long} examples may be over the 4096 token limit, they will be truncated during fine-tuning\")"
   ]
  },
  {
   "cell_type": "markdown",
   "metadata": {},
   "source": [
    "Estimate costs"
   ]
  },
  {
   "cell_type": "code",
   "execution_count": 6,
   "metadata": {},
   "outputs": [
    {
     "name": "stdout",
     "output_type": "stream",
     "text": [
      "Dataset has ~1408040 tokens that will be charged for during training\n",
      "By default, you'll train for 3 epochs on this dataset\n",
      "By default, you'll be charged for ~4224120 tokens\n"
     ]
    }
   ],
   "source": [
    "# Pricing and default n_epochs estimate\n",
    "MAX_TOKENS_PER_EXAMPLE = 4096\n",
    "\n",
    "TARGET_EPOCHS = 3\n",
    "MIN_TARGET_EXAMPLES = 100\n",
    "MAX_TARGET_EXAMPLES = 25000\n",
    "MIN_DEFAULT_EPOCHS = 1\n",
    "MAX_DEFAULT_EPOCHS = 25\n",
    "\n",
    "n_epochs = TARGET_EPOCHS\n",
    "n_train_examples = len(datasets[0]) # only training data\n",
    "if n_train_examples * TARGET_EPOCHS < MIN_TARGET_EXAMPLES:\n",
    "    n_epochs = min(MAX_DEFAULT_EPOCHS, MIN_TARGET_EXAMPLES // n_train_examples)\n",
    "elif n_train_examples * TARGET_EPOCHS > MAX_TARGET_EXAMPLES:\n",
    "    n_epochs = max(MIN_DEFAULT_EPOCHS, MAX_TARGET_EXAMPLES // n_train_examples)\n",
    "\n",
    "n_billing_tokens_in_dataset = sum(min(MAX_TOKENS_PER_EXAMPLE, length) for length in convo_lens)\n",
    "print(f\"Dataset has ~{n_billing_tokens_in_dataset} tokens that will be charged for during training\")\n",
    "print(f\"By default, you'll train for {n_epochs} epochs on this dataset\")\n",
    "print(f\"By default, you'll be charged for ~{n_epochs * n_billing_tokens_in_dataset} tokens\")"
   ]
  },
  {
   "cell_type": "markdown",
   "metadata": {},
   "source": [
    "Upload validated files to OpenAI API"
   ]
  },
  {
   "cell_type": "code",
   "execution_count": 7,
   "metadata": {},
   "outputs": [
    {
     "name": "stderr",
     "output_type": "stream",
     "text": [
      "INFO:httpx:HTTP Request: POST https://api.openai.com/v1/files \"HTTP/1.1 200 OK\"\n",
      "INFO:httpx:HTTP Request: POST https://api.openai.com/v1/files \"HTTP/1.1 200 OK\"\n"
     ]
    },
    {
     "name": "stdout",
     "output_type": "stream",
     "text": [
      "Uploaded training file id: file-MKIAphEdtV4waMhaKCeXH9k0\n",
      "Uploaded validation file id: file-1V6XLEkR2GUmXp1jRk9pvHBg\n"
     ]
    }
   ],
   "source": [
    "# upload validated data file to OpenAI API\n",
    "\n",
    "train_upload = client.files.create(\n",
    "  file=open(\"data/finetuning_data/small_training_data.jsonl\", \"rb\"),\n",
    "  purpose=\"fine-tune\"\n",
    ")\n",
    "val_upload = client.files.create(\n",
    "  file=open(\"data/finetuning_data/small_validation_data.jsonl\", \"rb\"),\n",
    "  purpose=\"fine-tune\"\n",
    ")\n",
    "\n",
    "print(\"Uploaded training file id:\", train_upload.id)\n",
    "print(\"Uploaded validation file id:\", val_upload.id)"
   ]
  },
  {
   "cell_type": "markdown",
   "metadata": {},
   "source": [
    "Create Fine-Tuning Job via OpenAI Software Development Kit"
   ]
  },
  {
   "cell_type": "code",
   "execution_count": 11,
   "metadata": {},
   "outputs": [
    {
     "name": "stdout",
     "output_type": "stream",
     "text": [
      "9 combinations in total\n",
      "Processing hyperparameters (lr=2, epoch=2, batch=1)\n"
     ]
    },
    {
     "name": "stderr",
     "output_type": "stream",
     "text": [
      "INFO:httpx:HTTP Request: POST https://api.openai.com/v1/fine_tuning/jobs \"HTTP/1.1 200 OK\"\n"
     ]
    },
    {
     "name": "stdout",
     "output_type": "stream",
     "text": [
      "Job created with ID ftjob-HeYo5c3ukkqbi5c9NY6BrC7w\n"
     ]
    },
    {
     "name": "stderr",
     "output_type": "stream",
     "text": [
      "INFO:httpx:HTTP Request: GET https://api.openai.com/v1/fine_tuning/jobs/ftjob-HeYo5c3ukkqbi5c9NY6BrC7w/events?limit=10 \"HTTP/1.1 200 OK\"\n",
      "INFO:httpx:HTTP Request: GET https://api.openai.com/v1/fine_tuning/jobs/ftjob-HeYo5c3ukkqbi5c9NY6BrC7w \"HTTP/1.1 200 OK\"\n"
     ]
    },
    {
     "name": "stdout",
     "output_type": "stream",
     "text": [
      "Processing hyperparameters (lr=2, epoch=3, batch=1)\n",
      "Rate limiting: Sleeping for 20.00 seconds\n"
     ]
    },
    {
     "name": "stderr",
     "output_type": "stream",
     "text": [
      "INFO:httpx:HTTP Request: POST https://api.openai.com/v1/fine_tuning/jobs \"HTTP/1.1 200 OK\"\n"
     ]
    },
    {
     "name": "stdout",
     "output_type": "stream",
     "text": [
      "Job created with ID ftjob-KR8Aeu4gOG0nGHR4O0UwBGYg\n"
     ]
    },
    {
     "name": "stderr",
     "output_type": "stream",
     "text": [
      "INFO:httpx:HTTP Request: GET https://api.openai.com/v1/fine_tuning/jobs/ftjob-KR8Aeu4gOG0nGHR4O0UwBGYg/events?limit=10 \"HTTP/1.1 200 OK\"\n",
      "INFO:httpx:HTTP Request: GET https://api.openai.com/v1/fine_tuning/jobs/ftjob-KR8Aeu4gOG0nGHR4O0UwBGYg \"HTTP/1.1 200 OK\"\n"
     ]
    },
    {
     "name": "stdout",
     "output_type": "stream",
     "text": [
      "Processing hyperparameters (lr=2, epoch=5, batch=1)\n",
      "Rate limiting: Sleeping for 20.00 seconds\n"
     ]
    },
    {
     "name": "stderr",
     "output_type": "stream",
     "text": [
      "INFO:httpx:HTTP Request: POST https://api.openai.com/v1/fine_tuning/jobs \"HTTP/1.1 200 OK\"\n"
     ]
    },
    {
     "name": "stdout",
     "output_type": "stream",
     "text": [
      "Job created with ID ftjob-3sFnb5d6ZN0mg2L8NPOig7a8\n"
     ]
    },
    {
     "name": "stderr",
     "output_type": "stream",
     "text": [
      "INFO:httpx:HTTP Request: GET https://api.openai.com/v1/fine_tuning/jobs/ftjob-3sFnb5d6ZN0mg2L8NPOig7a8/events?limit=10 \"HTTP/1.1 200 OK\"\n",
      "INFO:httpx:HTTP Request: GET https://api.openai.com/v1/fine_tuning/jobs/ftjob-3sFnb5d6ZN0mg2L8NPOig7a8 \"HTTP/1.1 200 OK\"\n"
     ]
    },
    {
     "name": "stdout",
     "output_type": "stream",
     "text": [
      "Processing hyperparameters (lr=5, epoch=2, batch=1)\n",
      "Rate limiting: Sleeping for 20.00 seconds\n"
     ]
    },
    {
     "name": "stderr",
     "output_type": "stream",
     "text": [
      "INFO:httpx:HTTP Request: POST https://api.openai.com/v1/fine_tuning/jobs \"HTTP/1.1 429 Too Many Requests\"\n",
      "INFO:openai._base_client:Retrying request to /fine_tuning/jobs in 0.845491 seconds\n",
      "INFO:httpx:HTTP Request: POST https://api.openai.com/v1/fine_tuning/jobs \"HTTP/1.1 429 Too Many Requests\"\n",
      "INFO:openai._base_client:Retrying request to /fine_tuning/jobs in 1.838708 seconds\n",
      "INFO:httpx:HTTP Request: POST https://api.openai.com/v1/fine_tuning/jobs \"HTTP/1.1 429 Too Many Requests\"\n"
     ]
    },
    {
     "name": "stdout",
     "output_type": "stream",
     "text": [
      "Rate limit exceeded. Retrying in 1.10 seconds...\n"
     ]
    },
    {
     "name": "stderr",
     "output_type": "stream",
     "text": [
      "INFO:httpx:HTTP Request: POST https://api.openai.com/v1/fine_tuning/jobs \"HTTP/1.1 429 Too Many Requests\"\n",
      "INFO:openai._base_client:Retrying request to /fine_tuning/jobs in 0.974021 seconds\n",
      "INFO:httpx:HTTP Request: POST https://api.openai.com/v1/fine_tuning/jobs \"HTTP/1.1 429 Too Many Requests\"\n",
      "INFO:openai._base_client:Retrying request to /fine_tuning/jobs in 1.984668 seconds\n",
      "INFO:httpx:HTTP Request: POST https://api.openai.com/v1/fine_tuning/jobs \"HTTP/1.1 429 Too Many Requests\"\n"
     ]
    },
    {
     "name": "stdout",
     "output_type": "stream",
     "text": [
      "Rate limit exceeded. Retrying in 2.96 seconds...\n"
     ]
    },
    {
     "name": "stderr",
     "output_type": "stream",
     "text": [
      "INFO:httpx:HTTP Request: POST https://api.openai.com/v1/fine_tuning/jobs \"HTTP/1.1 429 Too Many Requests\"\n",
      "INFO:openai._base_client:Retrying request to /fine_tuning/jobs in 0.880656 seconds\n",
      "INFO:httpx:HTTP Request: POST https://api.openai.com/v1/fine_tuning/jobs \"HTTP/1.1 429 Too Many Requests\"\n",
      "INFO:openai._base_client:Retrying request to /fine_tuning/jobs in 1.529924 seconds\n",
      "INFO:httpx:HTTP Request: POST https://api.openai.com/v1/fine_tuning/jobs \"HTTP/1.1 429 Too Many Requests\"\n"
     ]
    },
    {
     "name": "stdout",
     "output_type": "stream",
     "text": [
      "Rate limit exceeded. Retrying in 4.93 seconds...\n"
     ]
    },
    {
     "name": "stderr",
     "output_type": "stream",
     "text": [
      "INFO:httpx:HTTP Request: POST https://api.openai.com/v1/fine_tuning/jobs \"HTTP/1.1 429 Too Many Requests\"\n",
      "INFO:openai._base_client:Retrying request to /fine_tuning/jobs in 0.897569 seconds\n",
      "INFO:httpx:HTTP Request: POST https://api.openai.com/v1/fine_tuning/jobs \"HTTP/1.1 429 Too Many Requests\"\n",
      "INFO:openai._base_client:Retrying request to /fine_tuning/jobs in 1.739534 seconds\n",
      "INFO:httpx:HTTP Request: POST https://api.openai.com/v1/fine_tuning/jobs \"HTTP/1.1 429 Too Many Requests\"\n"
     ]
    },
    {
     "name": "stdout",
     "output_type": "stream",
     "text": [
      "Rate limit exceeded. Retrying in 8.86 seconds...\n"
     ]
    },
    {
     "name": "stderr",
     "output_type": "stream",
     "text": [
      "INFO:httpx:HTTP Request: POST https://api.openai.com/v1/fine_tuning/jobs \"HTTP/1.1 429 Too Many Requests\"\n",
      "INFO:openai._base_client:Retrying request to /fine_tuning/jobs in 0.972467 seconds\n",
      "INFO:httpx:HTTP Request: POST https://api.openai.com/v1/fine_tuning/jobs \"HTTP/1.1 429 Too Many Requests\"\n",
      "INFO:openai._base_client:Retrying request to /fine_tuning/jobs in 1.578454 seconds\n",
      "INFO:httpx:HTTP Request: POST https://api.openai.com/v1/fine_tuning/jobs \"HTTP/1.1 429 Too Many Requests\"\n"
     ]
    },
    {
     "name": "stdout",
     "output_type": "stream",
     "text": [
      "Rate limit exceeded. Retrying in 16.98 seconds...\n",
      "Processing hyperparameters (lr=5, epoch=3, batch=1)\n"
     ]
    },
    {
     "name": "stderr",
     "output_type": "stream",
     "text": [
      "INFO:httpx:HTTP Request: POST https://api.openai.com/v1/fine_tuning/jobs \"HTTP/1.1 429 Too Many Requests\"\n",
      "INFO:openai._base_client:Retrying request to /fine_tuning/jobs in 0.931674 seconds\n",
      "INFO:httpx:HTTP Request: POST https://api.openai.com/v1/fine_tuning/jobs \"HTTP/1.1 429 Too Many Requests\"\n",
      "INFO:openai._base_client:Retrying request to /fine_tuning/jobs in 1.628564 seconds\n",
      "INFO:httpx:HTTP Request: POST https://api.openai.com/v1/fine_tuning/jobs \"HTTP/1.1 429 Too Many Requests\"\n"
     ]
    },
    {
     "name": "stdout",
     "output_type": "stream",
     "text": [
      "Rate limit exceeded. Retrying in 1.71 seconds...\n"
     ]
    },
    {
     "name": "stderr",
     "output_type": "stream",
     "text": [
      "INFO:httpx:HTTP Request: POST https://api.openai.com/v1/fine_tuning/jobs \"HTTP/1.1 429 Too Many Requests\"\n",
      "INFO:openai._base_client:Retrying request to /fine_tuning/jobs in 0.925301 seconds\n",
      "INFO:httpx:HTTP Request: POST https://api.openai.com/v1/fine_tuning/jobs \"HTTP/1.1 429 Too Many Requests\"\n",
      "INFO:openai._base_client:Retrying request to /fine_tuning/jobs in 1.547003 seconds\n",
      "INFO:httpx:HTTP Request: POST https://api.openai.com/v1/fine_tuning/jobs \"HTTP/1.1 429 Too Many Requests\"\n"
     ]
    },
    {
     "name": "stdout",
     "output_type": "stream",
     "text": [
      "Rate limit exceeded. Retrying in 2.92 seconds...\n"
     ]
    },
    {
     "name": "stderr",
     "output_type": "stream",
     "text": [
      "INFO:httpx:HTTP Request: POST https://api.openai.com/v1/fine_tuning/jobs \"HTTP/1.1 429 Too Many Requests\"\n",
      "INFO:openai._base_client:Retrying request to /fine_tuning/jobs in 0.936135 seconds\n",
      "INFO:httpx:HTTP Request: POST https://api.openai.com/v1/fine_tuning/jobs \"HTTP/1.1 429 Too Many Requests\"\n",
      "INFO:openai._base_client:Retrying request to /fine_tuning/jobs in 1.997715 seconds\n",
      "INFO:httpx:HTTP Request: POST https://api.openai.com/v1/fine_tuning/jobs \"HTTP/1.1 429 Too Many Requests\"\n"
     ]
    },
    {
     "name": "stdout",
     "output_type": "stream",
     "text": [
      "Rate limit exceeded. Retrying in 4.78 seconds...\n"
     ]
    },
    {
     "name": "stderr",
     "output_type": "stream",
     "text": [
      "INFO:httpx:HTTP Request: POST https://api.openai.com/v1/fine_tuning/jobs \"HTTP/1.1 429 Too Many Requests\"\n",
      "INFO:openai._base_client:Retrying request to /fine_tuning/jobs in 0.919944 seconds\n",
      "INFO:httpx:HTTP Request: POST https://api.openai.com/v1/fine_tuning/jobs \"HTTP/1.1 429 Too Many Requests\"\n",
      "INFO:openai._base_client:Retrying request to /fine_tuning/jobs in 1.676578 seconds\n",
      "INFO:httpx:HTTP Request: POST https://api.openai.com/v1/fine_tuning/jobs \"HTTP/1.1 429 Too Many Requests\"\n"
     ]
    },
    {
     "name": "stdout",
     "output_type": "stream",
     "text": [
      "Rate limit exceeded. Retrying in 8.10 seconds...\n"
     ]
    },
    {
     "name": "stderr",
     "output_type": "stream",
     "text": [
      "INFO:httpx:HTTP Request: POST https://api.openai.com/v1/fine_tuning/jobs \"HTTP/1.1 429 Too Many Requests\"\n",
      "INFO:openai._base_client:Retrying request to /fine_tuning/jobs in 0.858842 seconds\n",
      "INFO:httpx:HTTP Request: POST https://api.openai.com/v1/fine_tuning/jobs \"HTTP/1.1 429 Too Many Requests\"\n",
      "INFO:openai._base_client:Retrying request to /fine_tuning/jobs in 1.859640 seconds\n",
      "INFO:httpx:HTTP Request: POST https://api.openai.com/v1/fine_tuning/jobs \"HTTP/1.1 429 Too Many Requests\"\n"
     ]
    },
    {
     "name": "stdout",
     "output_type": "stream",
     "text": [
      "Rate limit exceeded. Retrying in 16.89 seconds...\n",
      "Processed batch 1\n",
      "Pausing for 10 seconds between batches...\n",
      "Processing hyperparameters (lr=5, epoch=5, batch=1)\n"
     ]
    },
    {
     "name": "stderr",
     "output_type": "stream",
     "text": [
      "INFO:httpx:HTTP Request: POST https://api.openai.com/v1/fine_tuning/jobs \"HTTP/1.1 429 Too Many Requests\"\n",
      "INFO:openai._base_client:Retrying request to /fine_tuning/jobs in 0.920270 seconds\n",
      "INFO:httpx:HTTP Request: POST https://api.openai.com/v1/fine_tuning/jobs \"HTTP/1.1 429 Too Many Requests\"\n",
      "INFO:openai._base_client:Retrying request to /fine_tuning/jobs in 1.927983 seconds\n",
      "INFO:httpx:HTTP Request: POST https://api.openai.com/v1/fine_tuning/jobs \"HTTP/1.1 200 OK\"\n"
     ]
    },
    {
     "name": "stdout",
     "output_type": "stream",
     "text": [
      "Job created with ID ftjob-onRZWyNygXJjB9qk8UKt0bOu\n"
     ]
    },
    {
     "name": "stderr",
     "output_type": "stream",
     "text": [
      "INFO:httpx:HTTP Request: GET https://api.openai.com/v1/fine_tuning/jobs/ftjob-onRZWyNygXJjB9qk8UKt0bOu/events?limit=10 \"HTTP/1.1 200 OK\"\n",
      "INFO:httpx:HTTP Request: GET https://api.openai.com/v1/fine_tuning/jobs/ftjob-onRZWyNygXJjB9qk8UKt0bOu \"HTTP/1.1 200 OK\"\n"
     ]
    },
    {
     "name": "stdout",
     "output_type": "stream",
     "text": [
      "Processing hyperparameters (lr=100, epoch=2, batch=1)\n",
      "Rate limiting: Sleeping for 20.00 seconds\n"
     ]
    },
    {
     "name": "stderr",
     "output_type": "stream",
     "text": [
      "INFO:httpx:HTTP Request: POST https://api.openai.com/v1/fine_tuning/jobs \"HTTP/1.1 429 Too Many Requests\"\n",
      "INFO:openai._base_client:Retrying request to /fine_tuning/jobs in 0.974842 seconds\n",
      "INFO:httpx:HTTP Request: POST https://api.openai.com/v1/fine_tuning/jobs \"HTTP/1.1 429 Too Many Requests\"\n",
      "INFO:openai._base_client:Retrying request to /fine_tuning/jobs in 1.767160 seconds\n",
      "INFO:httpx:HTTP Request: POST https://api.openai.com/v1/fine_tuning/jobs \"HTTP/1.1 429 Too Many Requests\"\n"
     ]
    },
    {
     "name": "stdout",
     "output_type": "stream",
     "text": [
      "Rate limit exceeded. Retrying in 1.82 seconds...\n"
     ]
    },
    {
     "name": "stderr",
     "output_type": "stream",
     "text": [
      "INFO:httpx:HTTP Request: POST https://api.openai.com/v1/fine_tuning/jobs \"HTTP/1.1 429 Too Many Requests\"\n",
      "INFO:openai._base_client:Retrying request to /fine_tuning/jobs in 0.795143 seconds\n",
      "INFO:httpx:HTTP Request: POST https://api.openai.com/v1/fine_tuning/jobs \"HTTP/1.1 429 Too Many Requests\"\n",
      "INFO:openai._base_client:Retrying request to /fine_tuning/jobs in 1.675049 seconds\n",
      "INFO:httpx:HTTP Request: POST https://api.openai.com/v1/fine_tuning/jobs \"HTTP/1.1 429 Too Many Requests\"\n"
     ]
    },
    {
     "name": "stdout",
     "output_type": "stream",
     "text": [
      "Rate limit exceeded. Retrying in 2.99 seconds...\n"
     ]
    },
    {
     "name": "stderr",
     "output_type": "stream",
     "text": [
      "INFO:httpx:HTTP Request: POST https://api.openai.com/v1/fine_tuning/jobs \"HTTP/1.1 429 Too Many Requests\"\n",
      "INFO:openai._base_client:Retrying request to /fine_tuning/jobs in 0.813780 seconds\n",
      "INFO:httpx:HTTP Request: POST https://api.openai.com/v1/fine_tuning/jobs \"HTTP/1.1 429 Too Many Requests\"\n",
      "INFO:openai._base_client:Retrying request to /fine_tuning/jobs in 1.656207 seconds\n",
      "INFO:httpx:HTTP Request: POST https://api.openai.com/v1/fine_tuning/jobs \"HTTP/1.1 429 Too Many Requests\"\n"
     ]
    },
    {
     "name": "stdout",
     "output_type": "stream",
     "text": [
      "Rate limit exceeded. Retrying in 4.74 seconds...\n"
     ]
    },
    {
     "name": "stderr",
     "output_type": "stream",
     "text": [
      "INFO:httpx:HTTP Request: POST https://api.openai.com/v1/fine_tuning/jobs \"HTTP/1.1 200 OK\"\n"
     ]
    },
    {
     "name": "stdout",
     "output_type": "stream",
     "text": [
      "Job created with ID ftjob-Oipg075xU2czQBFUYYSmj4iW\n"
     ]
    },
    {
     "name": "stderr",
     "output_type": "stream",
     "text": [
      "INFO:httpx:HTTP Request: GET https://api.openai.com/v1/fine_tuning/jobs/ftjob-Oipg075xU2czQBFUYYSmj4iW/events?limit=10 \"HTTP/1.1 200 OK\"\n",
      "INFO:httpx:HTTP Request: GET https://api.openai.com/v1/fine_tuning/jobs/ftjob-Oipg075xU2czQBFUYYSmj4iW \"HTTP/1.1 200 OK\"\n"
     ]
    },
    {
     "name": "stdout",
     "output_type": "stream",
     "text": [
      "Processing hyperparameters (lr=100, epoch=3, batch=1)\n",
      "Rate limiting: Sleeping for 20.00 seconds\n"
     ]
    },
    {
     "name": "stderr",
     "output_type": "stream",
     "text": [
      "INFO:httpx:HTTP Request: POST https://api.openai.com/v1/fine_tuning/jobs \"HTTP/1.1 429 Too Many Requests\"\n",
      "INFO:openai._base_client:Retrying request to /fine_tuning/jobs in 0.802443 seconds\n",
      "INFO:httpx:HTTP Request: POST https://api.openai.com/v1/fine_tuning/jobs \"HTTP/1.1 429 Too Many Requests\"\n",
      "INFO:openai._base_client:Retrying request to /fine_tuning/jobs in 1.566473 seconds\n",
      "INFO:httpx:HTTP Request: POST https://api.openai.com/v1/fine_tuning/jobs \"HTTP/1.1 429 Too Many Requests\"\n"
     ]
    },
    {
     "name": "stdout",
     "output_type": "stream",
     "text": [
      "Rate limit exceeded. Retrying in 1.40 seconds...\n"
     ]
    },
    {
     "name": "stderr",
     "output_type": "stream",
     "text": [
      "INFO:httpx:HTTP Request: POST https://api.openai.com/v1/fine_tuning/jobs \"HTTP/1.1 429 Too Many Requests\"\n",
      "INFO:openai._base_client:Retrying request to /fine_tuning/jobs in 0.917250 seconds\n",
      "INFO:httpx:HTTP Request: POST https://api.openai.com/v1/fine_tuning/jobs \"HTTP/1.1 429 Too Many Requests\"\n",
      "INFO:openai._base_client:Retrying request to /fine_tuning/jobs in 1.876985 seconds\n",
      "INFO:httpx:HTTP Request: POST https://api.openai.com/v1/fine_tuning/jobs \"HTTP/1.1 429 Too Many Requests\"\n"
     ]
    },
    {
     "name": "stdout",
     "output_type": "stream",
     "text": [
      "Rate limit exceeded. Retrying in 2.89 seconds...\n"
     ]
    },
    {
     "name": "stderr",
     "output_type": "stream",
     "text": [
      "INFO:httpx:HTTP Request: POST https://api.openai.com/v1/fine_tuning/jobs \"HTTP/1.1 429 Too Many Requests\"\n",
      "INFO:openai._base_client:Retrying request to /fine_tuning/jobs in 0.871441 seconds\n",
      "INFO:httpx:HTTP Request: POST https://api.openai.com/v1/fine_tuning/jobs \"HTTP/1.1 429 Too Many Requests\"\n",
      "INFO:openai._base_client:Retrying request to /fine_tuning/jobs in 1.987324 seconds\n",
      "INFO:httpx:HTTP Request: POST https://api.openai.com/v1/fine_tuning/jobs \"HTTP/1.1 429 Too Many Requests\"\n"
     ]
    },
    {
     "name": "stdout",
     "output_type": "stream",
     "text": [
      "Rate limit exceeded. Retrying in 4.87 seconds...\n"
     ]
    },
    {
     "name": "stderr",
     "output_type": "stream",
     "text": [
      "INFO:httpx:HTTP Request: POST https://api.openai.com/v1/fine_tuning/jobs \"HTTP/1.1 429 Too Many Requests\"\n",
      "INFO:openai._base_client:Retrying request to /fine_tuning/jobs in 0.833501 seconds\n",
      "INFO:httpx:HTTP Request: POST https://api.openai.com/v1/fine_tuning/jobs \"HTTP/1.1 429 Too Many Requests\"\n",
      "INFO:openai._base_client:Retrying request to /fine_tuning/jobs in 1.824940 seconds\n",
      "INFO:httpx:HTTP Request: POST https://api.openai.com/v1/fine_tuning/jobs \"HTTP/1.1 429 Too Many Requests\"\n"
     ]
    },
    {
     "name": "stdout",
     "output_type": "stream",
     "text": [
      "Rate limit exceeded. Retrying in 8.76 seconds...\n"
     ]
    },
    {
     "name": "stderr",
     "output_type": "stream",
     "text": [
      "INFO:httpx:HTTP Request: POST https://api.openai.com/v1/fine_tuning/jobs \"HTTP/1.1 429 Too Many Requests\"\n",
      "INFO:openai._base_client:Retrying request to /fine_tuning/jobs in 0.912556 seconds\n",
      "INFO:httpx:HTTP Request: POST https://api.openai.com/v1/fine_tuning/jobs \"HTTP/1.1 429 Too Many Requests\"\n",
      "INFO:openai._base_client:Retrying request to /fine_tuning/jobs in 1.951150 seconds\n",
      "INFO:httpx:HTTP Request: POST https://api.openai.com/v1/fine_tuning/jobs \"HTTP/1.1 429 Too Many Requests\"\n"
     ]
    },
    {
     "name": "stdout",
     "output_type": "stream",
     "text": [
      "Rate limit exceeded. Retrying in 16.01 seconds...\n",
      "Processing hyperparameters (lr=100, epoch=5, batch=1)\n"
     ]
    },
    {
     "name": "stderr",
     "output_type": "stream",
     "text": [
      "INFO:httpx:HTTP Request: POST https://api.openai.com/v1/fine_tuning/jobs \"HTTP/1.1 429 Too Many Requests\"\n",
      "INFO:openai._base_client:Retrying request to /fine_tuning/jobs in 0.945611 seconds\n",
      "INFO:httpx:HTTP Request: POST https://api.openai.com/v1/fine_tuning/jobs \"HTTP/1.1 429 Too Many Requests\"\n",
      "INFO:openai._base_client:Retrying request to /fine_tuning/jobs in 1.516278 seconds\n",
      "INFO:httpx:HTTP Request: POST https://api.openai.com/v1/fine_tuning/jobs \"HTTP/1.1 429 Too Many Requests\"\n"
     ]
    },
    {
     "name": "stdout",
     "output_type": "stream",
     "text": [
      "Rate limit exceeded. Retrying in 1.49 seconds...\n"
     ]
    },
    {
     "name": "stderr",
     "output_type": "stream",
     "text": [
      "INFO:httpx:HTTP Request: POST https://api.openai.com/v1/fine_tuning/jobs \"HTTP/1.1 429 Too Many Requests\"\n",
      "INFO:openai._base_client:Retrying request to /fine_tuning/jobs in 0.827622 seconds\n",
      "INFO:httpx:HTTP Request: POST https://api.openai.com/v1/fine_tuning/jobs \"HTTP/1.1 429 Too Many Requests\"\n",
      "INFO:openai._base_client:Retrying request to /fine_tuning/jobs in 1.715870 seconds\n",
      "INFO:httpx:HTTP Request: POST https://api.openai.com/v1/fine_tuning/jobs \"HTTP/1.1 429 Too Many Requests\"\n"
     ]
    },
    {
     "name": "stdout",
     "output_type": "stream",
     "text": [
      "Rate limit exceeded. Retrying in 2.91 seconds...\n"
     ]
    },
    {
     "name": "stderr",
     "output_type": "stream",
     "text": [
      "INFO:httpx:HTTP Request: POST https://api.openai.com/v1/fine_tuning/jobs \"HTTP/1.1 429 Too Many Requests\"\n",
      "INFO:openai._base_client:Retrying request to /fine_tuning/jobs in 0.950458 seconds\n",
      "INFO:httpx:HTTP Request: POST https://api.openai.com/v1/fine_tuning/jobs \"HTTP/1.1 429 Too Many Requests\"\n",
      "INFO:openai._base_client:Retrying request to /fine_tuning/jobs in 1.871564 seconds\n",
      "INFO:httpx:HTTP Request: POST https://api.openai.com/v1/fine_tuning/jobs \"HTTP/1.1 429 Too Many Requests\"\n"
     ]
    },
    {
     "name": "stdout",
     "output_type": "stream",
     "text": [
      "Rate limit exceeded. Retrying in 4.25 seconds...\n"
     ]
    },
    {
     "name": "stderr",
     "output_type": "stream",
     "text": [
      "INFO:httpx:HTTP Request: POST https://api.openai.com/v1/fine_tuning/jobs \"HTTP/1.1 429 Too Many Requests\"\n",
      "INFO:openai._base_client:Retrying request to /fine_tuning/jobs in 0.929954 seconds\n",
      "INFO:httpx:HTTP Request: POST https://api.openai.com/v1/fine_tuning/jobs \"HTTP/1.1 429 Too Many Requests\"\n",
      "INFO:openai._base_client:Retrying request to /fine_tuning/jobs in 1.668265 seconds\n",
      "INFO:httpx:HTTP Request: POST https://api.openai.com/v1/fine_tuning/jobs \"HTTP/1.1 429 Too Many Requests\"\n"
     ]
    },
    {
     "name": "stdout",
     "output_type": "stream",
     "text": [
      "Rate limit exceeded. Retrying in 8.15 seconds...\n"
     ]
    },
    {
     "name": "stderr",
     "output_type": "stream",
     "text": [
      "INFO:httpx:HTTP Request: POST https://api.openai.com/v1/fine_tuning/jobs \"HTTP/1.1 429 Too Many Requests\"\n",
      "INFO:openai._base_client:Retrying request to /fine_tuning/jobs in 0.901302 seconds\n",
      "INFO:httpx:HTTP Request: POST https://api.openai.com/v1/fine_tuning/jobs \"HTTP/1.1 429 Too Many Requests\"\n",
      "INFO:openai._base_client:Retrying request to /fine_tuning/jobs in 1.542679 seconds\n",
      "INFO:httpx:HTTP Request: POST https://api.openai.com/v1/fine_tuning/jobs \"HTTP/1.1 200 OK\"\n"
     ]
    },
    {
     "name": "stdout",
     "output_type": "stream",
     "text": [
      "Job created with ID ftjob-wVYVITVHX9kOdGlua3PEvFwG\n"
     ]
    },
    {
     "name": "stderr",
     "output_type": "stream",
     "text": [
      "INFO:httpx:HTTP Request: GET https://api.openai.com/v1/fine_tuning/jobs/ftjob-wVYVITVHX9kOdGlua3PEvFwG/events?limit=10 \"HTTP/1.1 200 OK\"\n",
      "INFO:httpx:HTTP Request: GET https://api.openai.com/v1/fine_tuning/jobs/ftjob-wVYVITVHX9kOdGlua3PEvFwG \"HTTP/1.1 200 OK\"\n"
     ]
    },
    {
     "name": "stdout",
     "output_type": "stream",
     "text": [
      "Processed batch 2\n",
      "All batches processed.\n"
     ]
    }
   ],
   "source": [
    "learning_rate_multiplier = [2, 5, 10]\n",
    "n_epochs = [2, 3, 5]\n",
    "batch_size = [1]\n",
    "\n",
    "pause_time = 10  # Time to wait between batches in seconds\n",
    "max_retries = 5  # Maximum retries for each request\n",
    "\n",
    "# Rate limit settings\n",
    "# code snippets from https://github.com/openai/openai-cookbook/blob/main/examples/How_to_handle_rate_limits.ipynb\n",
    "rate_limit = 3  # Number of requests per minute\n",
    "request_interval = 60 / rate_limit  # Interval in seconds\n",
    "\n",
    "# Generate all combinations of hyperparameters\n",
    "all_combinations = list(itertools.product(learning_rate_multiplier, n_epochs, batch_size))\n",
    "print(len(all_combinations), \"combinations in total\")\n",
    "\n",
    "def monitor_jobs(job_id):\n",
    "    event_ls = [client.fine_tuning.jobs.list_events(\n",
    "            fine_tuning_job_id=job_id,\n",
    "            limit=10\n",
    "                )\n",
    "            ]\n",
    "    return event_ls\n",
    "\n",
    "def get_result_files(job_id):\n",
    "    \"\"\"\n",
    "    Takes as input the job_id of a finished fine-tuning job and\n",
    "    returns the name, not the content, of the result files.\n",
    "    The result files' content can be accessed by querying the API\n",
    "    with the function get_ft_results.\n",
    "    \"\"\"\n",
    "    result_files = client.fine_tuning.jobs.retrieve(job_id).result_files\n",
    "    return result_files\n",
    "\n",
    "# Function to process a batch of jobs\n",
    "def process_jobs(combinations, train_upload, val_upload=None):\n",
    "    \"\"\"\n",
    "    Takes as input a list of hyperparameter combinations and the file ids\n",
    "    of the training and validation files. Processes each combination by \n",
    "    creating a fine-tuning job with the specified hyperparameters. Respects\n",
    "    the rate limit by waiting between requests. Returns a list of results\n",
    "    which include the job_id, hyperparameters, status, events, and result file\n",
    "    names.  \n",
    "    \"\"\"\n",
    "    results = []\n",
    "    last_request_time = time.time() - request_interval  # Initialize to allow immediate first request\n",
    "    # Loop through each combination of hyperparameters while using batches\n",
    "    for lr, epoch, batch in combinations:\n",
    "        # Retry loop to handle rate limiting\n",
    "        for attempt in range(max_retries):\n",
    "            # Setting time to wait between requests\n",
    "            print(f\"Processing hyperparameters (lr={lr}, epoch={epoch}, batch={batch})\")\n",
    "            current_time = time.time()\n",
    "            elapsed_time = current_time - last_request_time\n",
    "                \n",
    "            if elapsed_time < request_interval:\n",
    "                sleep_time = request_interval - elapsed_time\n",
    "                print(f\"Rate limiting: Sleeping for {sleep_time:.2f} seconds\")\n",
    "                time.sleep(sleep_time)\n",
    "            try:\n",
    "                response = client.fine_tuning.jobs.create(\n",
    "                    training_file=train_upload.id,  # file id returned after upload to API\n",
    "                    validation_file=val_upload.id,  # file id returned after upload to API\n",
    "                    model=\"gpt-3.5-turbo\",\n",
    "                    suffix=\"small\",\n",
    "                    seed=124,\n",
    "                    hyperparameters={\n",
    "                        \"n_epochs\": epoch,\n",
    "                        \"batch_size\": batch,\n",
    "                        \"learning_rate_multiplier\": lr\n",
    "                    }\n",
    "                )\n",
    "                job_id = response.id\n",
    "                print(f\"Job created with ID {job_id}\")\n",
    "                results.append({\n",
    "                    \"job_id\": job_id,\n",
    "                    \"learning_rate_multiplier\": lr,\n",
    "                    \"n_epochs\": epoch,\n",
    "                    \"batch_size\": batch,\n",
    "                    \"status\": response.status,\n",
    "                    \"events\": monitor_jobs(job_id),\n",
    "                    \"result_file_name\": get_result_files(job_id)\n",
    "                })\n",
    "                last_request_time = time.time()\n",
    "                break  # Break out of the retry loop if the request is successful\n",
    "            except Exception as e:\n",
    "                if \"429\" in str(e):  # Check if the error is a rate limiting error\n",
    "                    wait_time = (2 ** attempt) + random.uniform(0, 1)\n",
    "                    print(f\"Rate limit exceeded. Retrying in {wait_time:.2f} seconds...\")\n",
    "                    time.sleep(wait_time)\n",
    "                else:\n",
    "                    print(f\"An error occurred: {e}\")\n",
    "                    break\n",
    "    return results\n",
    "\n",
    "# Process jobs in batches\n",
    "all_results = process_jobs(all_combinations, train_upload, val_upload)\n",
    "print(\"All batches processed.\")\n"
   ]
  },
  {
   "cell_type": "markdown",
   "metadata": {},
   "source": [
    "Getting Metrics / Evaluation"
   ]
  },
  {
   "cell_type": "code",
   "execution_count": 16,
   "metadata": {},
   "outputs": [
    {
     "name": "stdout",
     "output_type": "stream",
     "text": [
      "[{'job_id': 'ftjob-HeYo5c3ukkqbi5c9NY6BrC7w', 'learning_rate_multiplier': 2, 'n_epochs': 2, 'batch_size': 1, 'status': 'validating_files', 'events': [SyncCursorPage[FineTuningJobEvent](data=[FineTuningJobEvent(id='ftevent-LVhP7Elb0ecyB5hpjnUJueIu', created_at=1721831407, level='info', message='Validating training file: file-MKIAphEdtV4waMhaKCeXH9k0 and validation file: file-1V6XLEkR2GUmXp1jRk9pvHBg', object='fine_tuning.job.event', data={}, type='message'), FineTuningJobEvent(id='ftevent-vFj4vX2Py2x5ho2bDSDKGH5Y', created_at=1721831407, level='info', message='Created fine-tuning job: ftjob-HeYo5c3ukkqbi5c9NY6BrC7w', object='fine_tuning.job.event', data={}, type='message')], object='list', has_more=False)], 'result_files': []}, {'job_id': 'ftjob-KR8Aeu4gOG0nGHR4O0UwBGYg', 'learning_rate_multiplier': 2, 'n_epochs': 3, 'batch_size': 1, 'status': 'validating_files', 'events': [SyncCursorPage[FineTuningJobEvent](data=[FineTuningJobEvent(id='ftevent-XdgLMesISo2OLjEGGNZjD2kW', created_at=1721831430, level='info', message='Validating training file: file-MKIAphEdtV4waMhaKCeXH9k0 and validation file: file-1V6XLEkR2GUmXp1jRk9pvHBg', object='fine_tuning.job.event', data={}, type='message'), FineTuningJobEvent(id='ftevent-W2Yz8zbo3pvOPmaZrN5jP7fR', created_at=1721831430, level='info', message='Created fine-tuning job: ftjob-KR8Aeu4gOG0nGHR4O0UwBGYg', object='fine_tuning.job.event', data={}, type='message')], object='list', has_more=False)], 'result_files': []}, {'job_id': 'ftjob-3sFnb5d6ZN0mg2L8NPOig7a8', 'learning_rate_multiplier': 2, 'n_epochs': 5, 'batch_size': 1, 'status': 'validating_files', 'events': [SyncCursorPage[FineTuningJobEvent](data=[FineTuningJobEvent(id='ftevent-Wh8dqNcYCPozKyONtqoaH5sm', created_at=1721831453, level='info', message='Validating training file: file-MKIAphEdtV4waMhaKCeXH9k0 and validation file: file-1V6XLEkR2GUmXp1jRk9pvHBg', object='fine_tuning.job.event', data={}, type='message'), FineTuningJobEvent(id='ftevent-QRoFLHbX4ENgwqlnicSNwAks', created_at=1721831453, level='info', message='Created fine-tuning job: ftjob-3sFnb5d6ZN0mg2L8NPOig7a8', object='fine_tuning.job.event', data={}, type='message')], object='list', has_more=False)], 'result_files': []}, {'job_id': 'ftjob-onRZWyNygXJjB9qk8UKt0bOu', 'learning_rate_multiplier': 5, 'n_epochs': 5, 'batch_size': 1, 'status': 'validating_files', 'events': [SyncCursorPage[FineTuningJobEvent](data=[FineTuningJobEvent(id='ftevent-LEYR7Y09D3OBDa6pZy6GgyKs', created_at=1721831607, level='info', message='Validating training file: file-MKIAphEdtV4waMhaKCeXH9k0 and validation file: file-1V6XLEkR2GUmXp1jRk9pvHBg', object='fine_tuning.job.event', data={}, type='message'), FineTuningJobEvent(id='ftevent-z2QUQqeA6EwuOf6Ge8EuR9oX', created_at=1721831607, level='info', message='Created fine-tuning job: ftjob-onRZWyNygXJjB9qk8UKt0bOu', object='fine_tuning.job.event', data={}, type='message')], object='list', has_more=False)], 'result_files': []}, {'job_id': 'ftjob-Oipg075xU2czQBFUYYSmj4iW', 'learning_rate_multiplier': 100, 'n_epochs': 2, 'batch_size': 1, 'status': 'validating_files', 'events': [SyncCursorPage[FineTuningJobEvent](data=[FineTuningJobEvent(id='ftevent-qw8EsCaTzuLcjzlUEiybaYsk', created_at=1721831658, level='info', message='Validating training file: file-MKIAphEdtV4waMhaKCeXH9k0 and validation file: file-1V6XLEkR2GUmXp1jRk9pvHBg', object='fine_tuning.job.event', data={}, type='message'), FineTuningJobEvent(id='ftevent-VuVOnTPizPrOmvbeTSV5T5Y7', created_at=1721831658, level='info', message='Created fine-tuning job: ftjob-Oipg075xU2czQBFUYYSmj4iW', object='fine_tuning.job.event', data={}, type='message')], object='list', has_more=False)], 'result_files': []}, {'job_id': 'ftjob-wVYVITVHX9kOdGlua3PEvFwG', 'learning_rate_multiplier': 100, 'n_epochs': 5, 'batch_size': 1, 'status': 'validating_files', 'events': [SyncCursorPage[FineTuningJobEvent](data=[FineTuningJobEvent(id='ftevent-zIP7FjJndoswVhF5czpIVdEu', created_at=1721831773, level='info', message='Validating training file: file-MKIAphEdtV4waMhaKCeXH9k0 and validation file: file-1V6XLEkR2GUmXp1jRk9pvHBg', object='fine_tuning.job.event', data={}, type='message'), FineTuningJobEvent(id='ftevent-LHg305NF2v1Bd61FT0itI9N9', created_at=1721831772, level='info', message='Created fine-tuning job: ftjob-wVYVITVHX9kOdGlua3PEvFwG', object='fine_tuning.job.event', data={}, type='message')], object='list', has_more=False)], 'result_files': []}]\n"
     ]
    },
    {
     "name": "stderr",
     "output_type": "stream",
     "text": [
      "INFO:httpx:HTTP Request: GET https://api.openai.com/v1/fine_tuning/jobs/ftjob-KR8Aeu4gOG0nGHR4O0UwBGYg \"HTTP/1.1 200 OK\"\n"
     ]
    },
    {
     "name": "stdout",
     "output_type": "stream",
     "text": [
      "['file-CNFRk558UUo8onYhGLLjTFym']\n"
     ]
    }
   ],
   "source": [
    "job_id = (all_results[0][\"job_id\"])\n",
    "one_result = get_result_files(\"ftjob-KR8Aeu4gOG0nGHR4O0UwBGYg\")\n",
    "print(one_result)"
   ]
  },
  {
   "cell_type": "code",
   "execution_count": 17,
   "metadata": {},
   "outputs": [
    {
     "ename": "KeyError",
     "evalue": "'result_file_name'",
     "output_type": "error",
     "traceback": [
      "\u001b[1;31m---------------------------------------------------------------------------\u001b[0m",
      "\u001b[1;31mKeyError\u001b[0m                                  Traceback (most recent call last)",
      "Cell \u001b[1;32mIn[17], line 13\u001b[0m\n\u001b[0;32m     11\u001b[0m job_id \u001b[38;5;241m=\u001b[39m all_results[i][\u001b[38;5;124m\"\u001b[39m\u001b[38;5;124mjob_id\u001b[39m\u001b[38;5;124m\"\u001b[39m]\n\u001b[0;32m     12\u001b[0m \u001b[38;5;66;03m# get result_files\u001b[39;00m\n\u001b[1;32m---> 13\u001b[0m result_file_name \u001b[38;5;241m=\u001b[39m \u001b[43mall_results\u001b[49m\u001b[43m[\u001b[49m\u001b[43mi\u001b[49m\u001b[43m]\u001b[49m\u001b[43m[\u001b[49m\u001b[38;5;124;43m\"\u001b[39;49m\u001b[38;5;124;43mresult_file_name\u001b[39;49m\u001b[38;5;124;43m\"\u001b[39;49m\u001b[43m]\u001b[49m\n\u001b[0;32m     14\u001b[0m \u001b[38;5;66;03m# get hyperparameters\u001b[39;00m\n\u001b[0;32m     15\u001b[0m lr_multiplier \u001b[38;5;241m=\u001b[39m all_results[i][\u001b[38;5;124m\"\u001b[39m\u001b[38;5;124mlearning_rate_multiplier\u001b[39m\u001b[38;5;124m\"\u001b[39m]\n",
      "\u001b[1;31mKeyError\u001b[0m: 'result_file_name'"
     ]
    }
   ],
   "source": [
    "# # create empty csv files with columnn names train_loss, val_loss, train_ppl, val_ppl\n",
    "# with open(\"decoded_content.csv\", \"w\") as f:\t\n",
    "#     f.write(\"train_loss, train_accuracy, valid_loss, valid_mean_token_accuracy\\n\")\n",
    "\n",
    "\n",
    "\n",
    "# concatenate all results files to one dataframe\n",
    "for i in range(len(all_results)):\n",
    "\n",
    "    # get job_id\n",
    "    job_id = all_results[i][\"job_id\"]\n",
    "    # get result_files\n",
    "    result_file_name = all_results[i][\"result_file_name\"]\n",
    "    # get hyperparameters\n",
    "    lr_multiplier = all_results[i][\"learning_rate_multiplier\"]\n",
    "    n_epochs = all_results[i][\"n_epochs\"]\n",
    "    # get metrics_df\n",
    "    metrics_df = pd.read_csv(cbf.get_ft_results(result_file_name))\n",
    "    # add columns to metrics_df\n",
    "    metrics_df[\"job_id\"] = job_id\n",
    "    metrics_df[\"learning_rate_multiplier\"] = lr_multiplier\n",
    "    metrics_df[\"n_epochs\"] = n_epochs\n",
    "    metrics_df[\"result_file_name\"] = result_file_name\n",
    "    # add metrics_df to an overall df\n",
    "    if i == 0:\n",
    "        all_metrics_df = metrics_df\n",
    "    else:\n",
    "        all_metrics_df = pd.concat([all_metrics_df, metrics_df], axis=0)\n",
    "    #checkpoints_df = cbf.get_checkpoint_results(job_id)\n",
    "    # add checkpoints_df to a overall df\n",
    "    #if i == 0:\n",
    "    #    all_checkpoints_df = checkpoints_df\n",
    "    #else:\n",
    "    #    all_checkpoints_df = pd.concat([all_checkpoints_df, checkpoints_df], axis=0)\n",
    "    \n",
    "display(all_metrics_df.head())\n",
    "#display(all_checkpoints_df.head())"
   ]
  },
  {
   "cell_type": "code",
   "execution_count": 10,
   "metadata": {},
   "outputs": [],
   "source": [
    "# # plot the training loss and validation loss as lines in one plot\n",
    "# # print two plots next to eachtother\n",
    "# fig, ax = plt.subplots(1, 2, figsize=(12, 4))\n",
    "# ax[0].plot(all_metrics_df[\"train_loss\"], label=\"Training Loss\")\n",
    "# ax[0].plot(all_metrics_df[\"valid_loss\"], label=\"Validation Loss\")\n",
    "# ax[0].set_xlabel(\"Step\")\n",
    "# ax[0].set_ylabel(\"Loss\")\n",
    "# ax[0].legend()\n",
    "\n",
    "# ax[1].plot(all_metrics_df[\"train_accuracy\"], label=\"Training Accuracy\")\n",
    "# ax[1].plot(all_metrics_df[\"valid_mean_token_accuracy\"], label=\"Validation Mean Token Accuracy\")\n",
    "# ax[1].set_xlabel(\"Step\")\n",
    "# ax[1].legend()\n",
    "\n",
    "# plt.show()"
   ]
  },
  {
   "cell_type": "code",
   "execution_count": 72,
   "metadata": {},
   "outputs": [
    {
     "data": {
      "text/html": [
       "<div>\n",
       "<style scoped>\n",
       "    .dataframe tbody tr th:only-of-type {\n",
       "        vertical-align: middle;\n",
       "    }\n",
       "\n",
       "    .dataframe tbody tr th {\n",
       "        vertical-align: top;\n",
       "    }\n",
       "\n",
       "    .dataframe thead th {\n",
       "        text-align: right;\n",
       "    }\n",
       "</style>\n",
       "<table border=\"1\" class=\"dataframe\">\n",
       "  <thead>\n",
       "    <tr style=\"text-align: right;\">\n",
       "      <th></th>\n",
       "      <th>Step</th>\n",
       "      <th>train_loss</th>\n",
       "      <th>valid_loss</th>\n",
       "      <th>train_accuracy</th>\n",
       "      <th>valid_mean_token_accuracy</th>\n",
       "      <th>job_id</th>\n",
       "      <th>learning_rate_multiplier</th>\n",
       "      <th>n_epochs</th>\n",
       "      <th>batch_size</th>\n",
       "    </tr>\n",
       "  </thead>\n",
       "  <tbody>\n",
       "    <tr>\n",
       "      <th>0</th>\n",
       "      <td>1</td>\n",
       "      <td>0.145883</td>\n",
       "      <td>0.243663</td>\n",
       "      <td>0.843527</td>\n",
       "      <td>0.762868</td>\n",
       "      <td>job_001</td>\n",
       "      <td>0.5</td>\n",
       "      <td>2</td>\n",
       "      <td>1</td>\n",
       "    </tr>\n",
       "    <tr>\n",
       "      <th>1</th>\n",
       "      <td>2</td>\n",
       "      <td>0.192179</td>\n",
       "      <td>0.267960</td>\n",
       "      <td>0.817795</td>\n",
       "      <td>0.784336</td>\n",
       "      <td>job_001</td>\n",
       "      <td>0.5</td>\n",
       "      <td>2</td>\n",
       "      <td>1</td>\n",
       "    </tr>\n",
       "    <tr>\n",
       "      <th>2</th>\n",
       "      <td>3</td>\n",
       "      <td>0.110707</td>\n",
       "      <td>0.276336</td>\n",
       "      <td>0.880620</td>\n",
       "      <td>0.816779</td>\n",
       "      <td>job_001</td>\n",
       "      <td>0.5</td>\n",
       "      <td>2</td>\n",
       "      <td>1</td>\n",
       "    </tr>\n",
       "    <tr>\n",
       "      <th>3</th>\n",
       "      <td>4</td>\n",
       "      <td>0.177980</td>\n",
       "      <td>0.211931</td>\n",
       "      <td>0.843401</td>\n",
       "      <td>0.771227</td>\n",
       "      <td>job_001</td>\n",
       "      <td>0.5</td>\n",
       "      <td>2</td>\n",
       "      <td>1</td>\n",
       "    </tr>\n",
       "    <tr>\n",
       "      <th>4</th>\n",
       "      <td>5</td>\n",
       "      <td>0.199798</td>\n",
       "      <td>0.213576</td>\n",
       "      <td>0.844651</td>\n",
       "      <td>0.787332</td>\n",
       "      <td>job_001</td>\n",
       "      <td>0.5</td>\n",
       "      <td>2</td>\n",
       "      <td>1</td>\n",
       "    </tr>\n",
       "  </tbody>\n",
       "</table>\n",
       "</div>"
      ],
      "text/plain": [
       "   Step  train_loss  valid_loss  train_accuracy  valid_mean_token_accuracy  \\\n",
       "0     1    0.145883    0.243663        0.843527                   0.762868   \n",
       "1     2    0.192179    0.267960        0.817795                   0.784336   \n",
       "2     3    0.110707    0.276336        0.880620                   0.816779   \n",
       "3     4    0.177980    0.211931        0.843401                   0.771227   \n",
       "4     5    0.199798    0.213576        0.844651                   0.787332   \n",
       "\n",
       "    job_id  learning_rate_multiplier  n_epochs  batch_size  \n",
       "0  job_001                       0.5         2           1  \n",
       "1  job_001                       0.5         2           1  \n",
       "2  job_001                       0.5         2           1  \n",
       "3  job_001                       0.5         2           1  \n",
       "4  job_001                       0.5         2           1  "
      ]
     },
     "metadata": {},
     "output_type": "display_data"
    }
   ],
   "source": [
    "syn_data = {\n",
    "    \"Step\": np.tile(np.arange(1, 11), 4),  # 10 steps for each combination\n",
    "    \"train_loss\": np.random.rand(40) * 0.1 + 0.1,  # Random training loss values\n",
    "    \"valid_loss\": np.random.rand(40) * 0.1 + 0.2,  # Random validation loss values\n",
    "    \"train_accuracy\": np.random.rand(40) * 0.1 + 0.8,  # Random training accuracy values\n",
    "    \"valid_mean_token_accuracy\": np.random.rand(40) * 0.1 + 0.75,  # Random validation accuracy values\n",
    "    \"job_id\": np.repeat([\"job_001\", \"job_002\", \"job_003\", \"job_004\"], 10),\n",
    "    \"learning_rate_multiplier\": np.repeat([0.5, 2, 5, 10], 10),\n",
    "    \"n_epochs\": np.repeat([2, 3, 5, 2], 10),\n",
    "    \"batch_size\": np.repeat([1, 1, 1, 1], 10)\n",
    "}\n",
    "\n",
    "# Create DataFrame\n",
    "syn_all_metrics_df = pd.DataFrame(syn_data)\n",
    "display(syn_all_metrics_df.head())"
   ]
  },
  {
   "cell_type": "code",
   "execution_count": 77,
   "metadata": {},
   "outputs": [
    {
     "data": {
      "image/png": "[encoded data removed]",
      "text/plain": [
       "<Figure size 2553.5x400 with 4 Axes>"
      ]
     },
     "metadata": {},
     "output_type": "display_data"
    },
    {
     "data": {
      "image/png": "[encoded data removed]",
      "text/plain": [
       "<Figure size 2586.75x400 with 4 Axes>"
      ]
     },
     "metadata": {},
     "output_type": "display_data"
    }
   ],
   "source": [
    "# Ensure the dataframe has hyperparameter columns as strings for easier plotting\n",
    "all_metrics_df[\"learning_rate_multiplier\"] = all_metrics_df[\"learning_rate_multiplier\"].astype(str)\n",
    "all_metrics_df[\"n_epochs\"] = all_metrics_df[\"n_epochs\"].astype(str)\n",
    "all_metrics_df[\"batch_size\"] = all_metrics_df[\"batch_size\"].astype(str)\n",
    "\n",
    "# Create a column to represent each hyperparameter combination\n",
    "all_metrics_df[\"hyperparameter_combination\"] = (\n",
    "    \"lr: \" + all_metrics_df[\"learning_rate_multiplier\"] +\n",
    "    \", epochs: \" + all_metrics_df[\"n_epochs\"] +\n",
    "    \", batch: \" + all_metrics_df[\"batch_size\"]\n",
    ")\n",
    "\n",
    "# Plot the losses\n",
    "g = sns.FacetGrid(all_metrics_df, col=\"hyperparameter_combination\", col_wrap=4, height=4, aspect=1.5)\n",
    "g.map(plt.plot, \"Step\", \"train_loss\", label=\"Training Loss\", color=\"blue\")\n",
    "g.map(plt.plot, \"Step\", \"valid_loss\", label=\"Validation Loss\", color=\"orange\")\n",
    "g.add_legend()\n",
    "for ax in g.axes.flat:\n",
    "    ax.set_ylabel(\"Loss\")\n",
    "\n",
    "g.figure.suptitle('Loss for each Hyperparameter Combination', y=1.02)\n",
    "plt.show()\n",
    "\n",
    "# Plot the accuracies\n",
    "g = sns.FacetGrid(all_metrics_df, col=\"hyperparameter_combination\", col_wrap=4, height=4, aspect=1.5)\n",
    "g.map(plt.plot, \"Step\", \"train_accuracy\", label=\"Training Accuracy\",color=\"blue\")\n",
    "g.map(plt.plot, \"Step\", \"valid_mean_token_accuracy\", label=\"Validation Accuracy\", color=\"orange\")\n",
    "g.add_legend()\n",
    "for ax in g.axes.flat:\n",
    "    ax.set_ylabel(\"Accuracy\")\n",
    "\n",
    "g.figure.suptitle('Accuracy for each Hyperparameter Combination', y=1.02)\n",
    "plt.show()\n"
   ]
  },
  {
   "cell_type": "code",
   "execution_count": null,
   "metadata": {},
   "outputs": [],
   "source": [
    "# List the checkpoints of the model\n",
    "# and save output in a json\n",
    "# with the following curl command\n",
    "# curl https://api.openai.com/v1/fine_tuning/jobs/{fine_tune_job_id}/checkpoints \\ -H \"Authorization: Bearer {API_key}\" -o checkpoint_output.json"
   ]
  },
  {
   "cell_type": "markdown",
   "metadata": {},
   "source": [
    "Cancel or track a fine-tune job or delete a model"
   ]
  },
  {
   "cell_type": "code",
   "execution_count": null,
   "metadata": {},
   "outputs": [],
   "source": [
    "# List 10 fine-tuning jobs\n",
    "client.fine_tuning.jobs.list(limit=10)\n",
    "\n",
    "# Retrieve the state of a fine-tune\n",
    "client.fine_tuning.jobs.retrieve(\"ftjob-abc123\")\n",
    "\n",
    "# Cancel a job\n",
    "client.fine_tuning.jobs.cancel(\"ftjob-abc123\")\n",
    "\n",
    "# List up to 10 events from a fine-tuning job\n",
    "client.fine_tuning.jobs.list_events(fine_tuning_job_id=\"ftjob-abc123\", limit=10)\n",
    "\n",
    "# Delete a fine-tuned model (must be an owner of the org the model was created in)\n",
    "client.models.delete(\"ft:gpt-3.5-turbo:acemeco:suffix:abc123\")"
   ]
  },
  {
   "cell_type": "markdown",
   "metadata": {},
   "source": [
    "Using fine-tuned model via Playground or via code"
   ]
  },
  {
   "cell_type": "code",
   "execution_count": 185,
   "metadata": {},
   "outputs": [
    {
     "ename": "TypeError",
     "evalue": "Completions.create() got an unexpected keyword argument 'headers'",
     "output_type": "error",
     "traceback": [
      "\u001b[1;31m---------------------------------------------------------------------------\u001b[0m",
      "\u001b[1;31mTypeError\u001b[0m                                 Traceback (most recent call last)",
      "Cell \u001b[1;32mIn[185], line 8\u001b[0m\n\u001b[0;32m      5\u001b[0m         test_messages\u001b[38;5;241m.\u001b[39mappend(json\u001b[38;5;241m.\u001b[39mloads(line))\n\u001b[0;32m      7\u001b[0m \u001b[38;5;66;03m# make a request to the new model\u001b[39;00m\n\u001b[1;32m----> 8\u001b[0m completion \u001b[38;5;241m=\u001b[39m \u001b[43mclient\u001b[49m\u001b[38;5;241;43m.\u001b[39;49m\u001b[43mchat\u001b[49m\u001b[38;5;241;43m.\u001b[39;49m\u001b[43mcompletions\u001b[49m\u001b[38;5;241;43m.\u001b[39;49m\u001b[43mcreate\u001b[49m\u001b[43m(\u001b[49m\n\u001b[0;32m      9\u001b[0m \u001b[43m  \u001b[49m\u001b[43mmodel\u001b[49m\u001b[38;5;241;43m=\u001b[39;49m\u001b[38;5;124;43m\"\u001b[39;49m\u001b[38;5;124;43mft:gpt-3.5-turbo-0125:lse:small:9n7qIWZT\u001b[39;49m\u001b[38;5;124;43m\"\u001b[39;49m\u001b[43m,\u001b[49m\n\u001b[0;32m     10\u001b[0m \u001b[43m  \u001b[49m\u001b[43mmessages\u001b[49m\u001b[38;5;241;43m=\u001b[39;49m\u001b[43mtest_messages\u001b[49m\u001b[43m,\u001b[49m\n\u001b[0;32m     11\u001b[0m \u001b[43m  \u001b[49m\u001b[43mheaders\u001b[49m\u001b[38;5;241;43m=\u001b[39;49m\u001b[43m{\u001b[49m\u001b[38;5;124;43m'\u001b[39;49m\u001b[38;5;124;43mAuthorization\u001b[39;49m\u001b[38;5;124;43m'\u001b[39;49m\u001b[43m:\u001b[49m\u001b[43m \u001b[49m\u001b[38;5;124;43mf\u001b[39;49m\u001b[38;5;124;43m'\u001b[39;49m\u001b[38;5;124;43mBearer \u001b[39;49m\u001b[38;5;132;43;01m{\u001b[39;49;00m\u001b[43mos\u001b[49m\u001b[38;5;241;43m.\u001b[39;49m\u001b[43menviron\u001b[49m\u001b[43m[\u001b[49m\u001b[38;5;124;43m'\u001b[39;49m\u001b[38;5;124;43mTestKey3\u001b[39;49m\u001b[38;5;124;43m'\u001b[39;49m\u001b[43m]\u001b[49m\u001b[38;5;132;43;01m}\u001b[39;49;00m\u001b[38;5;124;43m'\u001b[39;49m\u001b[43m}\u001b[49m\n\u001b[0;32m     12\u001b[0m \u001b[43m)\u001b[49m\n\u001b[0;32m     13\u001b[0m \u001b[38;5;28mprint\u001b[39m(completion\u001b[38;5;241m.\u001b[39mchoices[\u001b[38;5;241m0\u001b[39m]\u001b[38;5;241m.\u001b[39mmessage)\n",
      "File \u001b[1;32m~\\AppData\\Local\\Packages\\PythonSoftwareFoundation.Python.3.12_qbz5n2kfra8p0\\LocalCache\\local-packages\\Python312\\site-packages\\openai\\_utils\\_utils.py:277\u001b[0m, in \u001b[0;36mwrapper\u001b[1;34m(*args, **kwargs)\u001b[0m\n",
      "\u001b[1;31mTypeError\u001b[0m: Completions.create() got an unexpected keyword argument 'headers'"
     ]
    }
   ],
   "source": [
    "# save json small test set in a list of messages\n",
    "test_messages = []\n",
    "with open(\"data/finetuning_data/small_testing_data.jsonl\", \"r\") as f:\n",
    "    for line in f:\n",
    "        test_messages.append(json.loads(line))\n",
    "\n",
    "# make a request to the new model\n",
    "completion = client.chat.completions.create(\n",
    "  model=\"ft:gpt-3.5-turbo-0125:lse:small:9n7qIWZT\",\n",
    "  messages=test_messages,\n",
    "  headers={'Authorization': f'Bearer {os.environ['TestKey3']}'}\n",
    ")\n",
    "print(completion.choices[0].message)"
   ]
  },
  {
   "cell_type": "markdown",
   "metadata": {},
   "source": [
    "ChatCompletionMessage(content=\"Based on the information provided, as an expert predicting European Parliament voting patterns, here are the predicted percentages of votes in favour from each party group in the European Parliament for the proposed act on the extension of the EC-Mauritania Fisheries Partnership Agreement:\\n\\n1. European People's Party (EPP): 70% in favour\\n\n",
    " - The EPP group tends to support agreements that promote economic opportunities, such as fisheries partnerships, as they align with principles of international cooperation and economic growth.\\n\\n2. Socialists and Democrats (S&D): 60% in favour\\n \n",
    " - The S&D group is likely to support agreements that focus on sustainability and cooperation, as indicated by the mention of promoting sustainable fisheries policies and sound exploitation of resources in the legislative proposal.\\n\\n3. Renew Europe (RE): 80% in favour\\n \n",
    " - The RE group generally supports agreements that facilitate trade and partnerships with other regions or countries, which is in line with the extension of fishing opportunities outlined in the proposal.\\n\\n4. Greens/European Free Alliance (Greens/EFA): 50% in favour\\n \n",
    " - The Greens/EFA group may have concerns about the environmental impact of fisheries agreements, but their support could be influenced by the emphasis on sustainable fisheries in the proposal.\\n\\n5. European Conservatives and Reformists (ECR): 75% in favour\\n \n",
    " - The ECR group is likely to support agreements that promote economic benefits and opportunities for European businesses, such as access to fishing waters in Mauritania.\\n\\n6. Identity and Democracy (ID): 40% in favour\\n\n",
    "  - The ID group may have reservations about international agreements that involve financial contributions, but their support could be influenced by economic interests.\\n\\n\n",
    "Based on these predictions, a General majority (requiring a simple majority of votes cast) is likely to support the legislation due to its relevance to economic cooperation, sustainability, and promoting fisheries opportunities. The wording and framing of the law emphasize collaboration for sustainable fisheries policies, which can appeal to a broad spectrum of political ideologies within the European Parliament.\", role='assistant', function_call=None, tool_calls=None)"
   ]
  },
  {
   "cell_type": "code",
   "execution_count": 41,
   "metadata": {},
   "outputs": [
    {
     "name": "stdout",
     "output_type": "stream",
     "text": [
      "Skipping malformed item: Left Maj875\n",
      "Skipping malformed item: Co\n",
      "20\n"
     ]
    },
    {
     "name": "stderr",
     "output_type": "stream",
     "text": [
      "C:\\Users\\Cäcilia\\AppData\\Local\\Temp\\ipykernel_3048\\2671900495.py:30: FutureWarning: errors='ignore' is deprecated and will raise in a future version. Use to_numeric without passing `errors` and catch exceptions explicitly instead\n",
      "  df = df.apply(pd.to_numeric, errors='ignore')\n"
     ]
    },
    {
     "data": {
      "text/html": [
       "<div>\n",
       "<style scoped>\n",
       "    .dataframe tbody tr th:only-of-type {\n",
       "        vertical-align: middle;\n",
       "    }\n",
       "\n",
       "    .dataframe tbody tr th {\n",
       "        vertical-align: top;\n",
       "    }\n",
       "\n",
       "    .dataframe thead th {\n",
       "        text-align: right;\n",
       "    }\n",
       "</style>\n",
       "<table border=\"1\" class=\"dataframe\">\n",
       "  <thead>\n",
       "    <tr style=\"text-align: right;\">\n",
       "      <th></th>\n",
       "      <th>ECR%</th>\n",
       "      <th>EPP%</th>\n",
       "      <th>EFD/IDG%</th>\n",
       "      <th>Greens/EFA%</th>\n",
       "      <th>NI%</th>\n",
       "      <th>REG%</th>\n",
       "      <th>S&amp;D%</th>\n",
       "      <th>The Left%</th>\n",
       "      <th>General Majority</th>\n",
       "      <th>Left Majority</th>\n",
       "      <th>Right Majority</th>\n",
       "      <th>Consensus</th>\n",
       "      <th>Left MajS&amp;D%</th>\n",
       "      <th>Coority</th>\n",
       "      <th>EPnsensus</th>\n",
       "    </tr>\n",
       "  </thead>\n",
       "  <tbody>\n",
       "    <tr>\n",
       "      <th>0</th>\n",
       "      <td>0.839</td>\n",
       "      <td>0.898</td>\n",
       "      <td>0.562</td>\n",
       "      <td>0.932</td>\n",
       "      <td>0.294</td>\n",
       "      <td>0.892</td>\n",
       "      <td>0.890</td>\n",
       "      <td>0.731</td>\n",
       "      <td>1.0</td>\n",
       "      <td>0.0</td>\n",
       "      <td>0.0</td>\n",
       "      <td>0.0</td>\n",
       "      <td>NaN</td>\n",
       "      <td>NaN</td>\n",
       "      <td>NaN</td>\n",
       "    </tr>\n",
       "    <tr>\n",
       "      <th>1</th>\n",
       "      <td>0.563</td>\n",
       "      <td>0.784</td>\n",
       "      <td>0.269</td>\n",
       "      <td>0.815</td>\n",
       "      <td>0.167</td>\n",
       "      <td>0.759</td>\n",
       "      <td>0.803</td>\n",
       "      <td>0.688</td>\n",
       "      <td>0.0</td>\n",
       "      <td>0.0</td>\n",
       "      <td>0.0</td>\n",
       "      <td>0.0</td>\n",
       "      <td>NaN</td>\n",
       "      <td>NaN</td>\n",
       "      <td>NaN</td>\n",
       "    </tr>\n",
       "    <tr>\n",
       "      <th>2</th>\n",
       "      <td>0.590</td>\n",
       "      <td>0.802</td>\n",
       "      <td>0.188</td>\n",
       "      <td>0.875</td>\n",
       "      <td>0.154</td>\n",
       "      <td>0.844</td>\n",
       "      <td>0.815</td>\n",
       "      <td>0.620</td>\n",
       "      <td>1.0</td>\n",
       "      <td>0.0</td>\n",
       "      <td>0.0</td>\n",
       "      <td>0.0</td>\n",
       "      <td>NaN</td>\n",
       "      <td>NaN</td>\n",
       "      <td>NaN</td>\n",
       "    </tr>\n",
       "    <tr>\n",
       "      <th>3</th>\n",
       "      <td>0.636</td>\n",
       "      <td>0.787</td>\n",
       "      <td>0.295</td>\n",
       "      <td>0.852</td>\n",
       "      <td>0.273</td>\n",
       "      <td>0.795</td>\n",
       "      <td>0.813</td>\n",
       "      <td>0.568</td>\n",
       "      <td>1.0</td>\n",
       "      <td>0.0</td>\n",
       "      <td>0.0</td>\n",
       "      <td>0.0</td>\n",
       "      <td>NaN</td>\n",
       "      <td>NaN</td>\n",
       "      <td>NaN</td>\n",
       "    </tr>\n",
       "    <tr>\n",
       "      <th>4</th>\n",
       "      <td>0.846</td>\n",
       "      <td>0.898</td>\n",
       "      <td>0.423</td>\n",
       "      <td>0.892</td>\n",
       "      <td>0.308</td>\n",
       "      <td>0.844</td>\n",
       "      <td>0.885</td>\n",
       "      <td>0.731</td>\n",
       "      <td>1.0</td>\n",
       "      <td>0.0</td>\n",
       "      <td>0.0</td>\n",
       "      <td>0.0</td>\n",
       "      <td>NaN</td>\n",
       "      <td>NaN</td>\n",
       "      <td>NaN</td>\n",
       "    </tr>\n",
       "    <tr>\n",
       "      <th>5</th>\n",
       "      <td>0.828</td>\n",
       "      <td>0.898</td>\n",
       "      <td>0.303</td>\n",
       "      <td>0.080</td>\n",
       "      <td>0.154</td>\n",
       "      <td>0.844</td>\n",
       "      <td>0.815</td>\n",
       "      <td>0.620</td>\n",
       "      <td>1.0</td>\n",
       "      <td>0.0</td>\n",
       "      <td>0.0</td>\n",
       "      <td>0.0</td>\n",
       "      <td>NaN</td>\n",
       "      <td>NaN</td>\n",
       "      <td>NaN</td>\n",
       "    </tr>\n",
       "    <tr>\n",
       "      <th>6</th>\n",
       "      <td>0.636</td>\n",
       "      <td>0.787</td>\n",
       "      <td>0.295</td>\n",
       "      <td>0.852</td>\n",
       "      <td>0.273</td>\n",
       "      <td>0.795</td>\n",
       "      <td>0.813</td>\n",
       "      <td>0.568</td>\n",
       "      <td>1.0</td>\n",
       "      <td>0.0</td>\n",
       "      <td>0.0</td>\n",
       "      <td>0.0</td>\n",
       "      <td>NaN</td>\n",
       "      <td>NaN</td>\n",
       "      <td>NaN</td>\n",
       "    </tr>\n",
       "    <tr>\n",
       "      <th>7</th>\n",
       "      <td>0.846</td>\n",
       "      <td>0.898</td>\n",
       "      <td>0.423</td>\n",
       "      <td>0.892</td>\n",
       "      <td>0.308</td>\n",
       "      <td>0.844</td>\n",
       "      <td>0.885</td>\n",
       "      <td>0.731</td>\n",
       "      <td>1.0</td>\n",
       "      <td>0.0</td>\n",
       "      <td>0.0</td>\n",
       "      <td>0.0</td>\n",
       "      <td>NaN</td>\n",
       "      <td>NaN</td>\n",
       "      <td>NaN</td>\n",
       "    </tr>\n",
       "    <tr>\n",
       "      <th>8</th>\n",
       "      <td>0.828</td>\n",
       "      <td>0.898</td>\n",
       "      <td>0.303</td>\n",
       "      <td>0.080</td>\n",
       "      <td>0.156</td>\n",
       "      <td>0.830</td>\n",
       "      <td>0.772</td>\n",
       "      <td>0.568</td>\n",
       "      <td>1.0</td>\n",
       "      <td>0.0</td>\n",
       "      <td>0.0</td>\n",
       "      <td>0.0</td>\n",
       "      <td>0.813</td>\n",
       "      <td>NaN</td>\n",
       "      <td>NaN</td>\n",
       "    </tr>\n",
       "    <tr>\n",
       "      <th>9</th>\n",
       "      <td>0.846</td>\n",
       "      <td>0.898</td>\n",
       "      <td>0.423</td>\n",
       "      <td>0.892</td>\n",
       "      <td>0.308</td>\n",
       "      <td>0.844</td>\n",
       "      <td>0.885</td>\n",
       "      <td>0.731</td>\n",
       "      <td>1.0</td>\n",
       "      <td>0.0</td>\n",
       "      <td>0.0</td>\n",
       "      <td>0.0</td>\n",
       "      <td>NaN</td>\n",
       "      <td>NaN</td>\n",
       "      <td>NaN</td>\n",
       "    </tr>\n",
       "    <tr>\n",
       "      <th>10</th>\n",
       "      <td>0.828</td>\n",
       "      <td>0.898</td>\n",
       "      <td>0.303</td>\n",
       "      <td>0.080</td>\n",
       "      <td>0.156</td>\n",
       "      <td>0.830</td>\n",
       "      <td>0.772</td>\n",
       "      <td>0.060</td>\n",
       "      <td>0.0</td>\n",
       "      <td>0.0</td>\n",
       "      <td>0.0</td>\n",
       "      <td>0.0</td>\n",
       "      <td>NaN</td>\n",
       "      <td>NaN</td>\n",
       "      <td>NaN</td>\n",
       "    </tr>\n",
       "    <tr>\n",
       "      <th>11</th>\n",
       "      <td>0.824</td>\n",
       "      <td>0.853</td>\n",
       "      <td>0.333</td>\n",
       "      <td>0.910</td>\n",
       "      <td>0.154</td>\n",
       "      <td>0.896</td>\n",
       "      <td>0.853</td>\n",
       "      <td>0.080</td>\n",
       "      <td>1.0</td>\n",
       "      <td>0.0</td>\n",
       "      <td>0.0</td>\n",
       "      <td>0.0</td>\n",
       "      <td>NaN</td>\n",
       "      <td>NaN</td>\n",
       "      <td>NaN</td>\n",
       "    </tr>\n",
       "    <tr>\n",
       "      <th>12</th>\n",
       "      <td>0.828</td>\n",
       "      <td>0.898</td>\n",
       "      <td>0.303</td>\n",
       "      <td>0.080</td>\n",
       "      <td>0.156</td>\n",
       "      <td>0.830</td>\n",
       "      <td>0.772</td>\n",
       "      <td>0.060</td>\n",
       "      <td>0.0</td>\n",
       "      <td>0.0</td>\n",
       "      <td>0.0</td>\n",
       "      <td>0.0</td>\n",
       "      <td>NaN</td>\n",
       "      <td>NaN</td>\n",
       "      <td>NaN</td>\n",
       "    </tr>\n",
       "    <tr>\n",
       "      <th>13</th>\n",
       "      <td>0.824</td>\n",
       "      <td>0.853</td>\n",
       "      <td>0.333</td>\n",
       "      <td>0.910</td>\n",
       "      <td>0.154</td>\n",
       "      <td>0.896</td>\n",
       "      <td>0.853</td>\n",
       "      <td>0.080</td>\n",
       "      <td>1.0</td>\n",
       "      <td>1.0</td>\n",
       "      <td>0.0</td>\n",
       "      <td>0.0</td>\n",
       "      <td>NaN</td>\n",
       "      <td>0.0</td>\n",
       "      <td>NaN</td>\n",
       "    </tr>\n",
       "    <tr>\n",
       "      <th>14</th>\n",
       "      <td>0.824</td>\n",
       "      <td>0.853</td>\n",
       "      <td>0.333</td>\n",
       "      <td>0.910</td>\n",
       "      <td>0.154</td>\n",
       "      <td>0.896</td>\n",
       "      <td>0.853</td>\n",
       "      <td>0.080</td>\n",
       "      <td>1.0</td>\n",
       "      <td>1.0</td>\n",
       "      <td>0.0</td>\n",
       "      <td>0.0</td>\n",
       "      <td>NaN</td>\n",
       "      <td>NaN</td>\n",
       "      <td>NaN</td>\n",
       "    </tr>\n",
       "    <tr>\n",
       "      <th>15</th>\n",
       "      <td>0.714</td>\n",
       "      <td>0.728</td>\n",
       "      <td>0.375</td>\n",
       "      <td>0.885</td>\n",
       "      <td>0.219</td>\n",
       "      <td>0.846</td>\n",
       "      <td>0.786</td>\n",
       "      <td>0.609</td>\n",
       "      <td>0.0</td>\n",
       "      <td>0.0</td>\n",
       "      <td>0.0</td>\n",
       "      <td>0.0</td>\n",
       "      <td>NaN</td>\n",
       "      <td>NaN</td>\n",
       "      <td>NaN</td>\n",
       "    </tr>\n",
       "    <tr>\n",
       "      <th>16</th>\n",
       "      <td>0.867</td>\n",
       "      <td>NaN</td>\n",
       "      <td>NaN</td>\n",
       "      <td>NaN</td>\n",
       "      <td>NaN</td>\n",
       "      <td>NaN</td>\n",
       "      <td>NaN</td>\n",
       "      <td>NaN</td>\n",
       "      <td>NaN</td>\n",
       "      <td>NaN</td>\n",
       "      <td>NaN</td>\n",
       "      <td>NaN</td>\n",
       "      <td>NaN</td>\n",
       "      <td>NaN</td>\n",
       "      <td>0.0</td>\n",
       "    </tr>\n",
       "    <tr>\n",
       "      <th>17</th>\n",
       "      <td>0.714</td>\n",
       "      <td>0.728</td>\n",
       "      <td>0.375</td>\n",
       "      <td>0.885</td>\n",
       "      <td>0.219</td>\n",
       "      <td>0.846</td>\n",
       "      <td>0.786</td>\n",
       "      <td>0.609</td>\n",
       "      <td>0.0</td>\n",
       "      <td>0.0</td>\n",
       "      <td>0.0</td>\n",
       "      <td>0.0</td>\n",
       "      <td>NaN</td>\n",
       "      <td>NaN</td>\n",
       "      <td>NaN</td>\n",
       "    </tr>\n",
       "    <tr>\n",
       "      <th>18</th>\n",
       "      <td>0.867</td>\n",
       "      <td>0.901</td>\n",
       "      <td>0.438</td>\n",
       "      <td>0.810</td>\n",
       "      <td>0.154</td>\n",
       "      <td>0.839</td>\n",
       "      <td>0.854</td>\n",
       "      <td>0.731</td>\n",
       "      <td>0.0</td>\n",
       "      <td>0.0</td>\n",
       "      <td>0.0</td>\n",
       "      <td>0.0</td>\n",
       "      <td>NaN</td>\n",
       "      <td>NaN</td>\n",
       "      <td>NaN</td>\n",
       "    </tr>\n",
       "    <tr>\n",
       "      <th>19</th>\n",
       "      <td>0.898</td>\n",
       "      <td>0.935</td>\n",
       "      <td>0.625</td>\n",
       "      <td>0.957</td>\n",
       "      <td>0.542</td>\n",
       "      <td>0.865</td>\n",
       "      <td>0.901</td>\n",
       "      <td>0.766</td>\n",
       "      <td>1.0</td>\n",
       "      <td>0.0</td>\n",
       "      <td>0.0</td>\n",
       "      <td>0.0</td>\n",
       "      <td>NaN</td>\n",
       "      <td>NaN</td>\n",
       "      <td>NaN</td>\n",
       "    </tr>\n",
       "  </tbody>\n",
       "</table>\n",
       "</div>"
      ],
      "text/plain": [
       "     ECR%   EPP%  EFD/IDG%  Greens/EFA%    NI%   REG%   S&D%  The Left%  \\\n",
       "0   0.839  0.898     0.562        0.932  0.294  0.892  0.890      0.731   \n",
       "1   0.563  0.784     0.269        0.815  0.167  0.759  0.803      0.688   \n",
       "2   0.590  0.802     0.188        0.875  0.154  0.844  0.815      0.620   \n",
       "3   0.636  0.787     0.295        0.852  0.273  0.795  0.813      0.568   \n",
       "4   0.846  0.898     0.423        0.892  0.308  0.844  0.885      0.731   \n",
       "5   0.828  0.898     0.303        0.080  0.154  0.844  0.815      0.620   \n",
       "6   0.636  0.787     0.295        0.852  0.273  0.795  0.813      0.568   \n",
       "7   0.846  0.898     0.423        0.892  0.308  0.844  0.885      0.731   \n",
       "8   0.828  0.898     0.303        0.080  0.156  0.830  0.772      0.568   \n",
       "9   0.846  0.898     0.423        0.892  0.308  0.844  0.885      0.731   \n",
       "10  0.828  0.898     0.303        0.080  0.156  0.830  0.772      0.060   \n",
       "11  0.824  0.853     0.333        0.910  0.154  0.896  0.853      0.080   \n",
       "12  0.828  0.898     0.303        0.080  0.156  0.830  0.772      0.060   \n",
       "13  0.824  0.853     0.333        0.910  0.154  0.896  0.853      0.080   \n",
       "14  0.824  0.853     0.333        0.910  0.154  0.896  0.853      0.080   \n",
       "15  0.714  0.728     0.375        0.885  0.219  0.846  0.786      0.609   \n",
       "16  0.867    NaN       NaN          NaN    NaN    NaN    NaN        NaN   \n",
       "17  0.714  0.728     0.375        0.885  0.219  0.846  0.786      0.609   \n",
       "18  0.867  0.901     0.438        0.810  0.154  0.839  0.854      0.731   \n",
       "19  0.898  0.935     0.625        0.957  0.542  0.865  0.901      0.766   \n",
       "\n",
       "    General Majority  Left Majority  Right Majority  Consensus  Left MajS&D%  \\\n",
       "0                1.0            0.0             0.0        0.0           NaN   \n",
       "1                0.0            0.0             0.0        0.0           NaN   \n",
       "2                1.0            0.0             0.0        0.0           NaN   \n",
       "3                1.0            0.0             0.0        0.0           NaN   \n",
       "4                1.0            0.0             0.0        0.0           NaN   \n",
       "5                1.0            0.0             0.0        0.0           NaN   \n",
       "6                1.0            0.0             0.0        0.0           NaN   \n",
       "7                1.0            0.0             0.0        0.0           NaN   \n",
       "8                1.0            0.0             0.0        0.0         0.813   \n",
       "9                1.0            0.0             0.0        0.0           NaN   \n",
       "10               0.0            0.0             0.0        0.0           NaN   \n",
       "11               1.0            0.0             0.0        0.0           NaN   \n",
       "12               0.0            0.0             0.0        0.0           NaN   \n",
       "13               1.0            1.0             0.0        0.0           NaN   \n",
       "14               1.0            1.0             0.0        0.0           NaN   \n",
       "15               0.0            0.0             0.0        0.0           NaN   \n",
       "16               NaN            NaN             NaN        NaN           NaN   \n",
       "17               0.0            0.0             0.0        0.0           NaN   \n",
       "18               0.0            0.0             0.0        0.0           NaN   \n",
       "19               1.0            0.0             0.0        0.0           NaN   \n",
       "\n",
       "    Coority  EPnsensus  \n",
       "0       NaN        NaN  \n",
       "1       NaN        NaN  \n",
       "2       NaN        NaN  \n",
       "3       NaN        NaN  \n",
       "4       NaN        NaN  \n",
       "5       NaN        NaN  \n",
       "6       NaN        NaN  \n",
       "7       NaN        NaN  \n",
       "8       NaN        NaN  \n",
       "9       NaN        NaN  \n",
       "10      NaN        NaN  \n",
       "11      NaN        NaN  \n",
       "12      NaN        NaN  \n",
       "13      0.0        NaN  \n",
       "14      NaN        NaN  \n",
       "15      NaN        NaN  \n",
       "16      NaN        0.0  \n",
       "17      NaN        NaN  \n",
       "18      NaN        NaN  \n",
       "19      NaN        NaN  "
      ]
     },
     "metadata": {},
     "output_type": "display_data"
    }
   ],
   "source": [
    "# Convert list ouput back to a dataframe\n",
    "\n",
    "response_ls = ['ECR%:0.839, EPP%:0.898, EFD/IDG%:0.562, Greens/EFA%:0.932, NI%:0.294, REG%:0.892, S&D%:0.89, The Left%:0.731, General Majority:1, Left Majority:0, Right Majority:0, Consensus:0', 'ECR%:0.563, EPP%:0.784, EFD/IDG%:0.269, Greens/EFA%:0.815, NI%:0.167, REG%:0.759, S&D%:0.803, The Left%:0.688, General Majority:0, Left Majority:0, Right Majority:0, Consensus:0', 'ECR%:0.59, EPP%:0.802, EFD/IDG%:0.188, Greens/EFA%:0.875, NI%:0.154, REG%:0.844, S&D%:0.815, The Left%:0.62, General Majority:1, Left Majority:0, Right Majority:0, Consensus:0', 'ECR%:0.636, EPP%:0.787, EFD/IDG%:0.295, Greens/EFA%:0.852, NI%:0.273, REG%:0.795, S&D%:0.813, The Left%:0.568, General Majority:1, Left Majority:0, Right Majority:0, Consensus:0', 'ECR%:0.846, EPP%:0.898, EFD/IDG%:0.423, Greens/EFA%:0.892, NI%:0.308, REG%:0.844, S&D%:0.885, The Left%:0.731, General Majority:1, Left Majority:0, Right Majority:0, Consensus:0', 'ECR%:0.828, EPP%:0.898, EFD/IDG%:0.303, Greens/EFA%:0.08, NI%:0.156, REG%:0.83, S&D%:0.772, The Left%:0.06, General Majority:0, Left Maj875, NI%:0.154, REG%:0.844, S&D%:0.815, The Left%:0.62, General Majority:1, Left Majority:0, Right Majority:0, Consensus:0', 'ECR%:0.636, EPP%:0.787, EFD/IDG%:0.295, Greens/EFA%:0.852, NI%:0.273, REG%:0.795, S&D%:0.813, The Left%:0.568, General Majority:1, Left Majority:0, Right Majority:0, Consensus:0', 'ECR%:0.846, EPP%:0.898, EFD/IDG%:0.423, Greens/EFA%:0.892, NI%:0.308, REG%:0.844, S&D%:0.885, The Left%:0.731, General Majority:1, Left Majority:0, Right Majority:0, Consensus:0', 'ECR%:0.828, EPP%:0.898, EFD/IDG%:0.303, Greens/EFA%:0.08, NI%:0.156, REG%:0.83, S&D%:0.772, The Left%:0.06, General Majority:0, Left MajS&D%:0.813, The Left%:0.568, General Majority:1, Left Majority:0, Right Majority:0, Consensus:0', 'ECR%:0.846, EPP%:0.898, EFD/IDG%:0.423, Greens/EFA%:0.892, NI%:0.308, REG%:0.844, S&D%:0.885, The Left%:0.731, General Majority:1, Left Majority:0, Right Majority:0, Consensus:0', 'ECR%:0.828, EPP%:0.898, EFD/IDG%:0.303, Greens/EFA%:0.08, NI%:0.156, REG%:0.83, S&D%:0.772, The Left%:0.06, General Majority:0, Left Majority:0, Right Majority:0, Consensus:0', 'ECR%:0.824, EPP%:0.853, EFD/IDG%:0.333, Greens/EFA%:0.91, NI%:0.154, REG%:0.896, S&D%:0.853, The Left%:0.08, General Majority:1, Left Majority:1, Right Majority:0, Co, General Majority:1, Left Majority:0, Right Majority:0, Consensus:0', 'ECR%:0.828, EPP%:0.898, EFD/IDG%:0.303, Greens/EFA%:0.08, NI%:0.156, REG%:0.83, S&D%:0.772, The Left%:0.06, General Majority:0, Left Majority:0, Right Majority:0, Consensus:0', 'ECR%:0.824, EPP%:0.853, EFD/IDG%:0.333, Greens/EFA%:0.91, NI%:0.154, REG%:0.896, S&D%:0.853, The Left%:0.08, General Majority:1, Left Majority:1, Right Majority:0, Coority:0, Right Majority:0, Consensus:0', 'ECR%:0.824, EPP%:0.853, EFD/IDG%:0.333, Greens/EFA%:0.91, NI%:0.154, REG%:0.896, S&D%:0.853, The Left%:0.08, General Majority:1, Left Majority:1, Right Majority:0, Consensus:0', 'ECR%:0.714, EPP%:0.728, EFD/IDG%:0.375, Greens/EFA%:0.885, NI%:0.219, REG%:0.846, S&D%:0.786, The Left%:0.609, General Majority:0, Left Majority:0, Right Majority:0, Consensus:0', 'ECR%:0.867, EPnsensus:0', 'ECR%:0.714, EPP%:0.728, EFD/IDG%:0.375, Greens/EFA%:0.885, NI%:0.219, REG%:0.846, S&D%:0.786, The Left%:0.609, General Majority:0, Left Majority:0, Right Majority:0, Consensus:0', 'ECR%:0.867, EPP%:0.901, EFD/IDG%:0.438, Greens/EFA%:0.81, NI%:0.154, REG%:0.839, S&D%:0.854, The Left%:0.731, General Majority:0, Left Majority:0, Right Majority:0, Consensus:0', 'ECR%:0.898, EPP%:0.935, EFD/IDG%:0.625, Greens/EFA%:0.957, NI%:0.542, REG%:0.865, S&D%:0.901, The Left%:0.766, General Majority:1, Left Majority:0, Right Majority:0, Consensus:0']\n",
    "# Function to convert each string into a dictionary\n",
    "def parse_string_ls_to_dict(s):\n",
    "    result = {}\n",
    "    # delete all ' from string\n",
    "    s = s.replace(\"'\", \"\")\n",
    "    # split key value paris from each other\n",
    "    for item in s.split(', '):\n",
    "        # split party names from values\n",
    "        parts = item.split(':')\n",
    "        if len(parts) == 2:\n",
    "            # turn key value pairs into dictionary\n",
    "            key, value = parts\n",
    "            result[key] = value\n",
    "        else:\n",
    "            print(f\"Skipping incorrectly formatted item: {item}\")\n",
    "    return result\n",
    "\n",
    "# Convert list of strings to list of dictionaries\n",
    "response_dicts = [parse_string_ls_to_dict(item) for item in response for reponse in response_ls]\n",
    "\n",
    "# Convert list of dictionaries to DataFrame\n",
    "response_df = pd.DataFrame(response_dicts)\n",
    "\n",
    "# Convert numeric columns to float\n",
    "response_df = df.apply(pd.to_numeric, errors='ignore')\n",
    "\n",
    "display(response_df)\n",
    "\n",
    "# Calculate accuracy\n",
    "acc = fu.get_accuracy_df(response_df, 0.05)"
   ]
  }
 ],
 "metadata": {
  "kernelspec": {
   "display_name": "base",
   "language": "python",
   "name": "python3"
  },
  "language_info": {
   "codemirror_mode": {
    "name": "ipython",
    "version": 3
   },
   "file_extension": ".py",
   "mimetype": "text/x-python",
   "name": "python",
   "nbconvert_exporter": "python",
   "pygments_lexer": "ipython3",
   "version": "3.12.4"
  }
 },
 "nbformat": 4,
 "nbformat_minor": 2
}
