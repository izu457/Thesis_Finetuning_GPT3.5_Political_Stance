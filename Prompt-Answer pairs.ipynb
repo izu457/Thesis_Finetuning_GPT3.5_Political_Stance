{
 "cells": [
  {
   "cell_type": "markdown",
   "metadata": {},
   "source": [
    "Prompt: \n",
    "\"If the EP votes on a law on the topic of x with the key words [y] \n",
    "and 95% of party x and 78% of party y vote in favour,\n",
    "but 100% of party z vote against, \n",
    "how would that law look like? \n",
    "Give your answer as a summary of the legislation that is understandable to layman, \n",
    "gives some background on the topic, includes the aim, the scope, and the addressees of the law and the date when it will enter into force.\""
   ]
  },
  {
   "cell_type": "code",
   "execution_count": null,
   "metadata": {},
   "outputs": [],
   "source": [
    "# Prompt-Answer pairs\n",
    "\n",
    "# Create a list of dictionaries\n",
    "# Each dictionary will have a prompt and an answer\n",
    "\n",
    "qa_pairs = [\n",
    "    {\n",
    "        \"prompt\": \"\"\"If the European Parliament voted on a law on the topic of circular economy\n",
    "            with the key words [waste management, consumer information, plastics, marine pollution],\n",
    "            and the conservatives, christian democrats, and the right-wing parties voted in favour,\n",
    "            and the social-democrats, the Greens, and the Left vote in favour against,\n",
    "            and the Liberals abstain,\n",
    "            how would that law look like? \n",
    "            Give your answer as a summary ...\"\"\",\n",
    "        \"answer\": \"\"\"Single-use plastics – fighting the impact on the environment. \n",
    "            SUMMARY OF: \n",
    "            Directive (EU) 2019/904 on reducing the impact of certain plastic products on the environment. \n",
    "            WHAT IS THE AIM OF THE DIRECTIVE? \n",
    "            It aims to prevent and ...\n",
    "            KEY POINTS ...\n",
    "            \"\"\" },\n",
    "    {\n",
    "        \"prompt\": \"\"\"If the European Parliament voted on a law on the topic of circular economy\n",
    "            with the key words [waste management, consumer information, plastics, marine pollution],\n",
    "            and the conservatives, christian democrats, and the right-wing parties voted in favour,\n",
    "            and the social-democrats, the Greens, and the Left vote in favour against,\n",
    "            and the Liberals abstain,\n",
    "            how would that law look like? \n",
    "            Give your answer as a summary of the legislation that is understandable to layman, \n",
    "            gives some background on the topic, including the aim, the scope, and the addressees of \n",
    "            the law. Explain each key provision with one to five bullet points that outline concrete \n",
    "            actions and regulations. Give a concrete and realistic date when the law \n",
    "            will enter into force.\"\"\",\n",
    "        \"answer\": \"\"\"Single-use plastics – fighting the impact on the environment. \n",
    "            SUMMARY OF: \n",
    "            Directive (EU) 2019/904 on reducing the impact of certain plastic products on the environment. \n",
    "            WHAT IS THE AIM OF THE DIRECTIVE? \n",
    "            It aims to prevent and reduce the impact of certain plastic products on the environment, \n",
    "            and to promote a transition to a circular economy throughout the European Union (EU) by \n",
    "            introducing a combination of measures tailored to the products covered by the directive, \n",
    "            in particular, by ensuring that single-use  plastic (SUP) products, for which more sustainable \n",
    "            alternatives are available and affordable, cannot be placed on the market.\n",
    "            KEY POINTS ...\n",
    "            \"\"\" \n",
    "    }\n",
    "]"
   ]
  }
 ],
 "metadata": {
  "language_info": {
   "name": "python"
  }
 },
 "nbformat": 4,
 "nbformat_minor": 2
}
