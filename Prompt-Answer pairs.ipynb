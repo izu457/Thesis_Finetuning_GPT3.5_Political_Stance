{
 "cells": [
  {
   "cell_type": "markdown",
   "metadata": {},
   "source": [
    "Prompt: \n",
    "\"If the EP votes on a law on the topic of x with the key words [y] \n",
    "and 95% of party x and 78% of party y vote in favour,\n",
    "but 100% of party z vote against, \n",
    "how would that law look like? \n",
    "Give your answer as a summary of the legislation that is understandable to layman, \n",
    "gives some background on the topic, includes the aim, the scope, and the addressees of the law and the date when it will enter into force.\""
   ]
  },
  {
   "cell_type": "code",
   "execution_count": null,
   "metadata": {},
   "outputs": [],
   "source": [
    "# Prompt-Answer pairs\n",
    "\n",
    "# Create a list of dictionaries\n",
    "# Each dictionary will have a prompt and an answer\n",
    "\n",
    "qa_pairs = [\n",
    "    {\n",
    "        \"prompt\": \"\"\"If the EP votes on a law on the topic of circular economy\n",
    "            with the key words [waste management, consumer information, plastics, marine pollution, packaging product,\n",
    "            environmental impact, health risk, non-durable goods, biodegradability, EU environmental policy,\n",
    "            circular economy, plastic waste],\n",
    "            and 95% of party EPP\n",
    "            and 78% of party S&D vote in favour\n",
    "            but 100% of party ALDE vote against\n",
    "            and 89% of party Greens abstain,\n",
    "            how would that law look like? \n",
    "            Give your answer as a summary of the legislation that is understandable to layman, gives some background \n",
    "            on the topic, includes the aim, the scope, and the addressees of the law and the date when it will enter \n",
    "            into force.\"\"\",\n",
    "        \"answer\": \"\"\"Single-use plastics – fighting the impact on the environment. SUMMARY OF: Directive (EU) 2019/904 on\n",
    "            reducing the impact of certain plastic products on the environment. WHAT IS THE AIM OF THE DIRECTIVE? \n",
    "            It aims to prevent and reduce the impact of certain plastic products on the environment, and to promote \n",
    "            a transition to a circular economy throughout the European Union (EU) by introducing a combination of \n",
    "            measures tailored to the products covered by the directive, in particular, by ensuring that single-use \n",
    "            plastic (SUP) products, for which more sustainable alternatives are available and affordable, cannot be \n",
    "            placed on the market. The directive delivers on the EU’s plastics strategy, an important element in the \n",
    "            EU’s move towards a circular economy. KEY POINTS ...\n",
    "            \"\"\"\n",
    "    },\n",
    "    {\n",
    "        \"prompt\": \"What is the capital of France?\",\n",
    "        \"answer\": \"Paris\"\n",
    "    }\n",
    "]"
   ]
  }
 ],
 "metadata": {
  "language_info": {
   "name": "python"
  }
 },
 "nbformat": 4,
 "nbformat_minor": 2
}
