{
 "cells": [
  {
   "cell_type": "code",
   "execution_count": 20,
   "metadata": {},
   "outputs": [
    {
     "ename": "ModuleNotFoundError",
     "evalue": "No module named 'selenium'",
     "output_type": "error",
     "traceback": [
      "\u001b[1;31m---------------------------------------------------------------------------\u001b[0m",
      "\u001b[1;31mModuleNotFoundError\u001b[0m                       Traceback (most recent call last)",
      "Cell \u001b[1;32mIn[20], line 3\u001b[0m\n\u001b[0;32m      1\u001b[0m \u001b[38;5;66;03m# load packages\u001b[39;00m\n\u001b[0;32m      2\u001b[0m \u001b[38;5;28;01mimport\u001b[39;00m \u001b[38;5;21;01mpandas\u001b[39;00m \u001b[38;5;28;01mas\u001b[39;00m \u001b[38;5;21;01mpd\u001b[39;00m\n\u001b[1;32m----> 3\u001b[0m \u001b[38;5;28;01mimport\u001b[39;00m \u001b[38;5;21;01mselenium\u001b[39;00m\n",
      "\u001b[1;31mModuleNotFoundError\u001b[0m: No module named 'selenium'"
     ]
    }
   ],
   "source": [
    "# load packages\n",
    "import pandas as pd\n",
    "import selenium"
   ]
  },
  {
   "cell_type": "code",
   "execution_count": 15,
   "metadata": {},
   "outputs": [
    {
     "name": "stdout",
     "output_type": "stream",
     "text": [
      "Index(['Title,\"Subtitle\",\"CELEX number\",\"Initiating document\",\"Procedure reference\",\"Initial reference\",\"Adopted acts\",\"Latest consolidated version\",\"Procedure status\",\"ECLI identifier\",\"Transposed legal act(s)\",\"Date of document\",\"Author\",\"In force indicator\",\"Number of pages\",\"Publication Reference\",'], dtype='object')\n"
     ]
    }
   ],
   "source": [
    "# load csv as pandas dataframe\n",
    "df = pd.read_csv('sr2.csv')\n",
    "# print column names\n",
    "print(df.columns)\n"
   ]
  },
  {
   "cell_type": "code",
   "execution_count": 19,
   "metadata": {},
   "outputs": [
    {
     "ename": "ModuleNotFoundError",
     "evalue": "No module named 'selenium'",
     "output_type": "error",
     "traceback": [
      "\u001b[1;31m---------------------------------------------------------------------------\u001b[0m",
      "\u001b[1;31mModuleNotFoundError\u001b[0m                       Traceback (most recent call last)",
      "Cell \u001b[1;32mIn[19], line 2\u001b[0m\n\u001b[0;32m      1\u001b[0m \u001b[38;5;28;01mimport\u001b[39;00m \u001b[38;5;21;01mpandas\u001b[39;00m \u001b[38;5;28;01mas\u001b[39;00m \u001b[38;5;21;01mpd\u001b[39;00m\n\u001b[1;32m----> 2\u001b[0m \u001b[38;5;28;01mfrom\u001b[39;00m \u001b[38;5;21;01mselenium\u001b[39;00m \u001b[38;5;28;01mimport\u001b[39;00m webdriver\n\u001b[0;32m      4\u001b[0m \u001b[38;5;66;03m# Read CSV files\u001b[39;00m\n\u001b[0;32m      5\u001b[0m csv_files \u001b[38;5;241m=\u001b[39m [\u001b[38;5;124m'\u001b[39m\u001b[38;5;124mfile1.csv\u001b[39m\u001b[38;5;124m'\u001b[39m, \u001b[38;5;124m'\u001b[39m\u001b[38;5;124mfile2.csv\u001b[39m\u001b[38;5;124m'\u001b[39m, \u001b[38;5;124m'\u001b[39m\u001b[38;5;124mfile3.csv\u001b[39m\u001b[38;5;124m'\u001b[39m]\n",
      "\u001b[1;31mModuleNotFoundError\u001b[0m: No module named 'selenium'"
     ]
    }
   ],
   "source": [
    "import pandas as pd\n",
    "from selenium import webdriver\n",
    "\n",
    "# Read CSV files\n",
    "csv_files = ['file1.csv', 'file2.csv', 'file3.csv']\n",
    "for file in csv_files:\n",
    "    df = pd.read_csv(file)\n",
    "\n",
    "    # Extract URLs from the last column\n",
    "    urls = df.iloc[:, -1].tolist()\n",
    "\n",
    "    # Initialize Selenium WebDriver\n",
    "    driver = webdriver.Chrome()\n",
    "\n",
    "    for url in urls:\n",
    "        # Navigate to the website\n",
    "        driver.get(url)\n",
    "\n",
    "        # Click on \"Procedure\" button\n",
    "        procedure_button = driver.find_element_by_id(\"procedure\")\n",
    "        procedure_button.click()\n",
    "\n",
    "        # Navigate to the report page\n",
    "        # Locate and click on the link or button that leads to the report page\n",
    "        report_page_link = driver.find_element_by_xpath(\"//a[contains(text(), 'Report')]\")  # Adjust the XPath as needed\n",
    "        report_page_link.click()    \n",
    "\n",
    "        # Click on \"Report\" link\n",
    "        report_link = driver.find_element_by_link_text(\"Report\")\n",
    "        report_link.click()\n",
    "\n",
    "        # Download English report\n",
    "        english_link = driver.find_element_by_link_text(\"EN\")\n",
    "        english_link.click()\n",
    "\n",
    "    # Close the browser after processing all URLs in the current CSV file\n",
    "    driver.quit()\n"
   ]
  }
 ],
 "metadata": {
  "kernelspec": {
   "display_name": "base",
   "language": "python",
   "name": "python3"
  },
  "language_info": {
   "codemirror_mode": {
    "name": "ipython",
    "version": 3
   },
   "file_extension": ".py",
   "mimetype": "text/x-python",
   "name": "python",
   "nbconvert_exporter": "python",
   "pygments_lexer": "ipython3",
   "version": "3.11.5"
  }
 },
 "nbformat": 4,
 "nbformat_minor": 2
}
