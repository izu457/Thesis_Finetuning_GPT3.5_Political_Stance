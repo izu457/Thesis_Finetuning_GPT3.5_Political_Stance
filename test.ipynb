{
 "cells": [
  {
   "cell_type": "code",
   "execution_count": 17,
   "metadata": {},
   "outputs": [],
   "source": [
    "import requests\n",
    "from bs4 import BeautifulSoup\n",
    "import pandas as pd\n",
    "from datetime import datetime"
   ]
  },
  {
   "cell_type": "code",
   "execution_count": 48,
   "metadata": {},
   "outputs": [],
   "source": [
    "url = \"https://www.europarl.europa.eu/plenary/de/parliament-positions.html#sidesForm\"\n",
    "page = requests.get(url)\n",
    "soup = BeautifulSoup(page.content, \"html.parser\")"
   ]
  },
  {
   "cell_type": "code",
   "execution_count": 49,
   "metadata": {},
   "outputs": [
    {
     "name": "stdout",
     "output_type": "stream",
     "text": [
      "200\n"
     ]
    }
   ],
   "source": [
    "print(page.status_code)"
   ]
  },
  {
   "cell_type": "code",
   "execution_count": 51,
   "metadata": {},
   "outputs": [
    {
     "name": "stdout",
     "output_type": "stream",
     "text": [
      "æ2\n",
      "         COD Title        Date  \\\n",
      "0  2022/0092   NaN  2024-04-17   \n",
      "1  2021/0410   NaN  2024-02-08   \n",
      "2  2023/0192   NaN  2024-02-07   \n",
      "3  2023/0033   NaN  2024-02-07   \n",
      "4  2022/0341   NaN  2024-02-07   \n",
      "5  2021/0376   NaN  2024-02-07   \n",
      "6  2023/0143   NaN  2024-02-06   \n",
      "7  2023/0025   NaN  2024-02-06   \n",
      "8  2022/0379   NaN  2024-02-06   \n",
      "9  2022/0111   NaN  2024-02-06   \n",
      "\n",
      "                                                Link  \n",
      "0  http://www.europarl.europa.eu/oeil/popups/fich...  \n",
      "1  http://www.europarl.europa.eu/oeil/popups/fich...  \n",
      "2  http://www.europarl.europa.eu/oeil/popups/fich...  \n",
      "3  http://www.europarl.europa.eu/oeil/popups/fich...  \n",
      "4  http://www.europarl.europa.eu/oeil/popups/fich...  \n",
      "5  http://www.europarl.europa.eu/oeil/popups/fich...  \n",
      "6  http://www.europarl.europa.eu/oeil/popups/fich...  \n",
      "7  http://www.europarl.europa.eu/oeil/popups/fich...  \n",
      "8  http://www.europarl.europa.eu/oeil/popups/fich...  \n",
      "9  http://www.europarl.europa.eu/oeil/popups/fich...  \n"
     ]
    }
   ],
   "source": [
    "# Create a dataframe to store information\n",
    "df = pd.DataFrame(columns=['COD', 'Title', 'Date', 'Link'])\n",
    "\n",
    "for i, item in enumerate(soup.select('span.reference')):\n",
    "    # store the COD number of every second item in a dataframe column called 'COD'\n",
    "    df.loc[i, 'COD'] = item.get_text()[0:9]\n",
    "    # Extract the hyperlink from the <a> tag if it exists\n",
    "    link = item.find('a')\n",
    "    if link:\n",
    "        df.loc[i, 'Link'] = link['href']\n",
    "\n",
    "test = \"\\t\\n\\3462\\n\\t\"\n",
    "print(str(test.strip()))\n",
    "\n",
    "# keep only every second row\n",
    "df = df.iloc[1::2]. reset_index(drop=True)\n",
    "df\n",
    "\n",
    "\n",
    "for i, item in enumerate(soup.select('span.date')):\n",
    "    # select only every second item\n",
    "    date = item.get_text().strip().replace('\\n', '').replace('\\t', '').split(':')[1]\n",
    "    df.loc[i, 'Date'] = datetime.strptime(date, '%d-%m-%Y').date()\n",
    "\n",
    "\n",
    "print(df)\n"
   ]
  },
  {
   "cell_type": "markdown",
   "metadata": {},
   "source": [
    "https://www.europarl.europa.eu/plenary/de/parliament-positions.html?tabActif=tabLast#sidesForm\n",
    "https://www.europarl.europa.eu/plenary/de/parliament-positions.html#sidesForm\n",
    "https://www.europarl.europa.eu/plenary/de/parliament-positions.html#sidesForm\n",
    "https://www.europarl.europa.eu/plenary/de/parliament-positions.html#sidesForm"
   ]
  }
 ],
 "metadata": {
  "kernelspec": {
   "display_name": "base",
   "language": "python",
   "name": "python3"
  },
  "language_info": {
   "codemirror_mode": {
    "name": "ipython",
    "version": 3
   },
   "file_extension": ".py",
   "mimetype": "text/x-python",
   "name": "python",
   "nbconvert_exporter": "python",
   "pygments_lexer": "ipython3",
   "version": "3.11.5"
  }
 },
 "nbformat": 4,
 "nbformat_minor": 2
}
